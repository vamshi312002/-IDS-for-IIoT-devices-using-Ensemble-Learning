{
 "cells": [
  {
   "cell_type": "code",
   "execution_count": 1,
   "id": "91306a93",
   "metadata": {},
   "outputs": [],
   "source": [
    "import numpy as np\n",
    "import pandas as pd\n",
    "import seaborn as sns\n",
    "import matplotlib.pyplot as plt\n",
    "from sklearn.preprocessing import LabelEncoder \n",
    "from sklearn.model_selection import train_test_split\n",
    "from sklearn.metrics import classification_report,confusion_matrix,accuracy_score,precision_recall_fscore_support\n",
    "from sklearn.metrics import f1_score\n",
    "from sklearn.ensemble import RandomForestClassifier,ExtraTreesClassifier\n",
    "from sklearn.tree import DecisionTreeClassifier\n",
    "import xgboost as xgb\n",
    "from xgboost import plot_importance\n",
    "from sklearn.neighbors import KNeighborsClassifier\n",
    "from sklearn.multiclass import OneVsRestClassifier\n",
    "from sklearn.metrics import accuracy_score, precision_score, recall_score\n",
    "from sklearn import svm\n",
    "from sklearn.multiclass import OneVsRestClassifier\n",
    "from sklearn.model_selection import train_test_split\n",
    "from sklearn.metrics import accuracy_score\n",
    "from sklearn.model_selection import train_test_split, GridSearchCV, StratifiedKFold\n",
    "from sklearn.model_selection import cross_val_score\n",
    "from hyperopt import fmin,tpe,hp,STATUS_OK,Trials,space_eval"
   ]
  },
  {
   "cell_type": "code",
   "execution_count": 2,
   "id": "24ea1eb4",
   "metadata": {},
   "outputs": [],
   "source": [
    "df = pd.read_csv('Sample-0004.csv')"
   ]
  },
  {
   "cell_type": "code",
   "execution_count": 3,
   "id": "c268d09a",
   "metadata": {},
   "outputs": [
    {
     "data": {
      "text/html": [
       "<div>\n",
       "<style scoped>\n",
       "    .dataframe tbody tr th:only-of-type {\n",
       "        vertical-align: middle;\n",
       "    }\n",
       "\n",
       "    .dataframe tbody tr th {\n",
       "        vertical-align: top;\n",
       "    }\n",
       "\n",
       "    .dataframe thead th {\n",
       "        text-align: right;\n",
       "    }\n",
       "</style>\n",
       "<table border=\"1\" class=\"dataframe\">\n",
       "  <thead>\n",
       "    <tr style=\"text-align: right;\">\n",
       "      <th></th>\n",
       "      <th>L4_SRC_PORT</th>\n",
       "      <th>L4_DST_PORT</th>\n",
       "      <th>PROTOCOL</th>\n",
       "      <th>L7_PROTO</th>\n",
       "      <th>IN_BYTES</th>\n",
       "      <th>IN_PKTS</th>\n",
       "      <th>OUT_BYTES</th>\n",
       "      <th>OUT_PKTS</th>\n",
       "      <th>TCP_FLAGS</th>\n",
       "      <th>CLIENT_TCP_FLAGS</th>\n",
       "      <th>...</th>\n",
       "      <th>TCP_WIN_MAX_IN</th>\n",
       "      <th>TCP_WIN_MAX_OUT</th>\n",
       "      <th>ICMP_TYPE</th>\n",
       "      <th>ICMP_IPV4_TYPE</th>\n",
       "      <th>DNS_QUERY_ID</th>\n",
       "      <th>DNS_QUERY_TYPE</th>\n",
       "      <th>DNS_TTL_ANSWER</th>\n",
       "      <th>FTP_COMMAND_RET_CODE</th>\n",
       "      <th>Label</th>\n",
       "      <th>Attack</th>\n",
       "    </tr>\n",
       "  </thead>\n",
       "  <tbody>\n",
       "    <tr>\n",
       "      <th>0</th>\n",
       "      <td>1.433158</td>\n",
       "      <td>-0.135424</td>\n",
       "      <td>-0.411514</td>\n",
       "      <td>-0.430135</td>\n",
       "      <td>-0.004761</td>\n",
       "      <td>-0.010526</td>\n",
       "      <td>-0.007826</td>\n",
       "      <td>-0.008587</td>\n",
       "      <td>0.815313</td>\n",
       "      <td>-0.686199</td>\n",
       "      <td>...</td>\n",
       "      <td>-0.710202</td>\n",
       "      <td>-0.575276</td>\n",
       "      <td>-0.104114</td>\n",
       "      <td>-0.104114</td>\n",
       "      <td>-0.345112</td>\n",
       "      <td>-0.178156</td>\n",
       "      <td>-0.087005</td>\n",
       "      <td>-0.057106</td>\n",
       "      <td>-1.333181</td>\n",
       "      <td>0</td>\n",
       "    </tr>\n",
       "    <tr>\n",
       "      <th>1</th>\n",
       "      <td>1.347939</td>\n",
       "      <td>-0.061015</td>\n",
       "      <td>-0.411514</td>\n",
       "      <td>-0.430135</td>\n",
       "      <td>-0.004761</td>\n",
       "      <td>-0.010526</td>\n",
       "      <td>-0.007826</td>\n",
       "      <td>-0.008587</td>\n",
       "      <td>0.815313</td>\n",
       "      <td>-0.686199</td>\n",
       "      <td>...</td>\n",
       "      <td>-0.710202</td>\n",
       "      <td>-0.575276</td>\n",
       "      <td>-0.104114</td>\n",
       "      <td>-0.104114</td>\n",
       "      <td>-0.345112</td>\n",
       "      <td>-0.178156</td>\n",
       "      <td>-0.087005</td>\n",
       "      <td>-0.057106</td>\n",
       "      <td>-1.333181</td>\n",
       "      <td>0</td>\n",
       "    </tr>\n",
       "    <tr>\n",
       "      <th>2</th>\n",
       "      <td>1.441331</td>\n",
       "      <td>-0.080833</td>\n",
       "      <td>-0.411514</td>\n",
       "      <td>-0.430135</td>\n",
       "      <td>-0.004761</td>\n",
       "      <td>-0.010526</td>\n",
       "      <td>-0.007826</td>\n",
       "      <td>-0.008587</td>\n",
       "      <td>0.815313</td>\n",
       "      <td>-0.686199</td>\n",
       "      <td>...</td>\n",
       "      <td>-0.710202</td>\n",
       "      <td>-0.575276</td>\n",
       "      <td>-0.104114</td>\n",
       "      <td>-0.104114</td>\n",
       "      <td>-0.345112</td>\n",
       "      <td>-0.178156</td>\n",
       "      <td>-0.087005</td>\n",
       "      <td>-0.057106</td>\n",
       "      <td>-1.333181</td>\n",
       "      <td>0</td>\n",
       "    </tr>\n",
       "    <tr>\n",
       "      <th>3</th>\n",
       "      <td>1.341744</td>\n",
       "      <td>-0.034491</td>\n",
       "      <td>-0.411514</td>\n",
       "      <td>-0.430135</td>\n",
       "      <td>-0.004761</td>\n",
       "      <td>-0.010526</td>\n",
       "      <td>-0.007826</td>\n",
       "      <td>-0.008587</td>\n",
       "      <td>0.815313</td>\n",
       "      <td>-0.686199</td>\n",
       "      <td>...</td>\n",
       "      <td>-0.710202</td>\n",
       "      <td>-0.575276</td>\n",
       "      <td>-0.104114</td>\n",
       "      <td>-0.104114</td>\n",
       "      <td>-0.345112</td>\n",
       "      <td>-0.178156</td>\n",
       "      <td>-0.087005</td>\n",
       "      <td>-0.057106</td>\n",
       "      <td>-1.333181</td>\n",
       "      <td>0</td>\n",
       "    </tr>\n",
       "    <tr>\n",
       "      <th>4</th>\n",
       "      <td>1.441067</td>\n",
       "      <td>-0.074840</td>\n",
       "      <td>-0.411514</td>\n",
       "      <td>-0.430135</td>\n",
       "      <td>-0.004761</td>\n",
       "      <td>-0.010526</td>\n",
       "      <td>-0.007826</td>\n",
       "      <td>-0.008587</td>\n",
       "      <td>0.815313</td>\n",
       "      <td>-0.686199</td>\n",
       "      <td>...</td>\n",
       "      <td>-0.710202</td>\n",
       "      <td>-0.575276</td>\n",
       "      <td>-0.104114</td>\n",
       "      <td>-0.104114</td>\n",
       "      <td>-0.345112</td>\n",
       "      <td>-0.178156</td>\n",
       "      <td>-0.087005</td>\n",
       "      <td>-0.057106</td>\n",
       "      <td>-1.333181</td>\n",
       "      <td>0</td>\n",
       "    </tr>\n",
       "    <tr>\n",
       "      <th>...</th>\n",
       "      <td>...</td>\n",
       "      <td>...</td>\n",
       "      <td>...</td>\n",
       "      <td>...</td>\n",
       "      <td>...</td>\n",
       "      <td>...</td>\n",
       "      <td>...</td>\n",
       "      <td>...</td>\n",
       "      <td>...</td>\n",
       "      <td>...</td>\n",
       "      <td>...</td>\n",
       "      <td>...</td>\n",
       "      <td>...</td>\n",
       "      <td>...</td>\n",
       "      <td>...</td>\n",
       "      <td>...</td>\n",
       "      <td>...</td>\n",
       "      <td>...</td>\n",
       "      <td>...</td>\n",
       "      <td>...</td>\n",
       "      <td>...</td>\n",
       "    </tr>\n",
       "    <tr>\n",
       "      <th>34703</th>\n",
       "      <td>0.076511</td>\n",
       "      <td>-0.524380</td>\n",
       "      <td>-0.411514</td>\n",
       "      <td>-0.430135</td>\n",
       "      <td>0.457547</td>\n",
       "      <td>0.087674</td>\n",
       "      <td>0.005299</td>\n",
       "      <td>0.065032</td>\n",
       "      <td>1.169754</td>\n",
       "      <td>1.512796</td>\n",
       "      <td>...</td>\n",
       "      <td>1.369987</td>\n",
       "      <td>-0.120571</td>\n",
       "      <td>-0.104114</td>\n",
       "      <td>-0.104114</td>\n",
       "      <td>-0.345112</td>\n",
       "      <td>-0.178156</td>\n",
       "      <td>-0.087005</td>\n",
       "      <td>-0.057106</td>\n",
       "      <td>0.750086</td>\n",
       "      <td>7</td>\n",
       "    </tr>\n",
       "    <tr>\n",
       "      <th>34704</th>\n",
       "      <td>-2.564483</td>\n",
       "      <td>2.369977</td>\n",
       "      <td>-0.411514</td>\n",
       "      <td>-0.430135</td>\n",
       "      <td>0.294406</td>\n",
       "      <td>0.350849</td>\n",
       "      <td>1.676032</td>\n",
       "      <td>0.929084</td>\n",
       "      <td>0.992534</td>\n",
       "      <td>1.329547</td>\n",
       "      <td>...</td>\n",
       "      <td>-0.648481</td>\n",
       "      <td>3.051206</td>\n",
       "      <td>-0.104114</td>\n",
       "      <td>-0.104114</td>\n",
       "      <td>-0.345112</td>\n",
       "      <td>-0.178156</td>\n",
       "      <td>-0.087005</td>\n",
       "      <td>-0.057106</td>\n",
       "      <td>0.750086</td>\n",
       "      <td>7</td>\n",
       "    </tr>\n",
       "    <tr>\n",
       "      <th>34705</th>\n",
       "      <td>-2.564483</td>\n",
       "      <td>2.371282</td>\n",
       "      <td>-0.411514</td>\n",
       "      <td>-0.430135</td>\n",
       "      <td>1.316805</td>\n",
       "      <td>0.291929</td>\n",
       "      <td>0.108340</td>\n",
       "      <td>0.177398</td>\n",
       "      <td>0.992534</td>\n",
       "      <td>1.329547</td>\n",
       "      <td>...</td>\n",
       "      <td>-0.726665</td>\n",
       "      <td>0.336410</td>\n",
       "      <td>-0.104114</td>\n",
       "      <td>-0.104114</td>\n",
       "      <td>-0.345112</td>\n",
       "      <td>-0.178156</td>\n",
       "      <td>-0.087005</td>\n",
       "      <td>-0.057106</td>\n",
       "      <td>0.750086</td>\n",
       "      <td>7</td>\n",
       "    </tr>\n",
       "    <tr>\n",
       "      <th>34706</th>\n",
       "      <td>-2.564483</td>\n",
       "      <td>2.370748</td>\n",
       "      <td>-0.411514</td>\n",
       "      <td>-0.430135</td>\n",
       "      <td>0.110479</td>\n",
       "      <td>0.152485</td>\n",
       "      <td>0.436717</td>\n",
       "      <td>0.278139</td>\n",
       "      <td>0.992534</td>\n",
       "      <td>1.329547</td>\n",
       "      <td>...</td>\n",
       "      <td>-0.429432</td>\n",
       "      <td>0.336410</td>\n",
       "      <td>-0.104114</td>\n",
       "      <td>-0.104114</td>\n",
       "      <td>-0.345112</td>\n",
       "      <td>-0.178156</td>\n",
       "      <td>-0.087005</td>\n",
       "      <td>-0.057106</td>\n",
       "      <td>0.750086</td>\n",
       "      <td>7</td>\n",
       "    </tr>\n",
       "    <tr>\n",
       "      <th>34707</th>\n",
       "      <td>0.385289</td>\n",
       "      <td>-0.287090</td>\n",
       "      <td>-0.411514</td>\n",
       "      <td>-0.430135</td>\n",
       "      <td>1.062210</td>\n",
       "      <td>0.399949</td>\n",
       "      <td>0.349318</td>\n",
       "      <td>0.619111</td>\n",
       "      <td>0.992534</td>\n",
       "      <td>1.329547</td>\n",
       "      <td>...</td>\n",
       "      <td>0.426829</td>\n",
       "      <td>-0.442894</td>\n",
       "      <td>-0.104114</td>\n",
       "      <td>-0.104114</td>\n",
       "      <td>-0.345112</td>\n",
       "      <td>-0.178156</td>\n",
       "      <td>-0.087005</td>\n",
       "      <td>-0.057106</td>\n",
       "      <td>0.750086</td>\n",
       "      <td>7</td>\n",
       "    </tr>\n",
       "  </tbody>\n",
       "</table>\n",
       "<p>34708 rows × 43 columns</p>\n",
       "</div>"
      ],
      "text/plain": [
       "       L4_SRC_PORT  L4_DST_PORT  PROTOCOL  L7_PROTO  IN_BYTES   IN_PKTS  \\\n",
       "0         1.433158    -0.135424 -0.411514 -0.430135 -0.004761 -0.010526   \n",
       "1         1.347939    -0.061015 -0.411514 -0.430135 -0.004761 -0.010526   \n",
       "2         1.441331    -0.080833 -0.411514 -0.430135 -0.004761 -0.010526   \n",
       "3         1.341744    -0.034491 -0.411514 -0.430135 -0.004761 -0.010526   \n",
       "4         1.441067    -0.074840 -0.411514 -0.430135 -0.004761 -0.010526   \n",
       "...            ...          ...       ...       ...       ...       ...   \n",
       "34703     0.076511    -0.524380 -0.411514 -0.430135  0.457547  0.087674   \n",
       "34704    -2.564483     2.369977 -0.411514 -0.430135  0.294406  0.350849   \n",
       "34705    -2.564483     2.371282 -0.411514 -0.430135  1.316805  0.291929   \n",
       "34706    -2.564483     2.370748 -0.411514 -0.430135  0.110479  0.152485   \n",
       "34707     0.385289    -0.287090 -0.411514 -0.430135  1.062210  0.399949   \n",
       "\n",
       "       OUT_BYTES  OUT_PKTS  TCP_FLAGS  CLIENT_TCP_FLAGS  ...  TCP_WIN_MAX_IN  \\\n",
       "0      -0.007826 -0.008587   0.815313         -0.686199  ...       -0.710202   \n",
       "1      -0.007826 -0.008587   0.815313         -0.686199  ...       -0.710202   \n",
       "2      -0.007826 -0.008587   0.815313         -0.686199  ...       -0.710202   \n",
       "3      -0.007826 -0.008587   0.815313         -0.686199  ...       -0.710202   \n",
       "4      -0.007826 -0.008587   0.815313         -0.686199  ...       -0.710202   \n",
       "...          ...       ...        ...               ...  ...             ...   \n",
       "34703   0.005299  0.065032   1.169754          1.512796  ...        1.369987   \n",
       "34704   1.676032  0.929084   0.992534          1.329547  ...       -0.648481   \n",
       "34705   0.108340  0.177398   0.992534          1.329547  ...       -0.726665   \n",
       "34706   0.436717  0.278139   0.992534          1.329547  ...       -0.429432   \n",
       "34707   0.349318  0.619111   0.992534          1.329547  ...        0.426829   \n",
       "\n",
       "       TCP_WIN_MAX_OUT  ICMP_TYPE  ICMP_IPV4_TYPE  DNS_QUERY_ID  \\\n",
       "0            -0.575276  -0.104114       -0.104114     -0.345112   \n",
       "1            -0.575276  -0.104114       -0.104114     -0.345112   \n",
       "2            -0.575276  -0.104114       -0.104114     -0.345112   \n",
       "3            -0.575276  -0.104114       -0.104114     -0.345112   \n",
       "4            -0.575276  -0.104114       -0.104114     -0.345112   \n",
       "...                ...        ...             ...           ...   \n",
       "34703        -0.120571  -0.104114       -0.104114     -0.345112   \n",
       "34704         3.051206  -0.104114       -0.104114     -0.345112   \n",
       "34705         0.336410  -0.104114       -0.104114     -0.345112   \n",
       "34706         0.336410  -0.104114       -0.104114     -0.345112   \n",
       "34707        -0.442894  -0.104114       -0.104114     -0.345112   \n",
       "\n",
       "       DNS_QUERY_TYPE  DNS_TTL_ANSWER  FTP_COMMAND_RET_CODE     Label  Attack  \n",
       "0           -0.178156       -0.087005             -0.057106 -1.333181       0  \n",
       "1           -0.178156       -0.087005             -0.057106 -1.333181       0  \n",
       "2           -0.178156       -0.087005             -0.057106 -1.333181       0  \n",
       "3           -0.178156       -0.087005             -0.057106 -1.333181       0  \n",
       "4           -0.178156       -0.087005             -0.057106 -1.333181       0  \n",
       "...               ...             ...                   ...       ...     ...  \n",
       "34703       -0.178156       -0.087005             -0.057106  0.750086       7  \n",
       "34704       -0.178156       -0.087005             -0.057106  0.750086       7  \n",
       "34705       -0.178156       -0.087005             -0.057106  0.750086       7  \n",
       "34706       -0.178156       -0.087005             -0.057106  0.750086       7  \n",
       "34707       -0.178156       -0.087005             -0.057106  0.750086       7  \n",
       "\n",
       "[34708 rows x 43 columns]"
      ]
     },
     "execution_count": 3,
     "metadata": {},
     "output_type": "execute_result"
    }
   ],
   "source": [
    "df"
   ]
  },
  {
   "cell_type": "code",
   "execution_count": 4,
   "id": "5e2fc31b",
   "metadata": {},
   "outputs": [],
   "source": [
    "X = df.drop(['Attack'],axis=1).values\n",
    "y = df.iloc[:, -1].values.reshape(-1,1)\n",
    "y=np.ravel(y)"
   ]
  },
  {
   "cell_type": "code",
   "execution_count": 5,
   "id": "9b7e4f93",
   "metadata": {},
   "outputs": [],
   "source": [
    "X_train, X_test, y_train, y_test = train_test_split(X,y, train_size = 0.8, test_size = 0.2, random_state = 0,stratify = y)"
   ]
  },
  {
   "cell_type": "code",
   "execution_count": 6,
   "id": "7b33f318",
   "metadata": {},
   "outputs": [],
   "source": [
    "features = df.dtypes[df.dtypes != 'object'].index"
   ]
  },
  {
   "cell_type": "code",
   "execution_count": 7,
   "id": "02dab2b9",
   "metadata": {},
   "outputs": [],
   "source": [
    "#Feature engineering\n",
    "#Feature selection by information gain\n",
    "from sklearn.feature_selection import mutual_info_classif\n",
    "importances = mutual_info_classif(X_train, y_train)\n",
    "# calculate the sum of importance scores\n",
    "f_list = sorted(zip(map(lambda x: round(x, 4), importances), features), reverse=True)\n",
    "Sum = 0\n",
    "fs = []\n",
    "for i in range(0, len(f_list)):\n",
    "    Sum = Sum + f_list[i][0]\n",
    "    fs.append(f_list[i][1])"
   ]
  },
  {
   "cell_type": "code",
   "execution_count": 8,
   "id": "a3f5366e",
   "metadata": {},
   "outputs": [],
   "source": [
    "# select the important features from top to bottom until the accumulated importance reaches 90%\n",
    "f_list2 = sorted(zip(map(lambda x: round(x, 4), importances/Sum), features), reverse=True)\n",
    "Sum2 = 0\n",
    "fs = []\n",
    "for i in range(0, len(f_list2)):\n",
    "    Sum2 = Sum2 + f_list2[i][0]\n",
    "    fs.append(f_list2[i][1])\n",
    "    if Sum2>=0.9:\n",
    "        break        \n"
   ]
  },
  {
   "cell_type": "code",
   "execution_count": 9,
   "id": "8efbfc98",
   "metadata": {},
   "outputs": [
    {
     "data": {
      "text/plain": [
       "(34708, 23)"
      ]
     },
     "execution_count": 9,
     "metadata": {},
     "output_type": "execute_result"
    }
   ],
   "source": [
    "X_fs = df[fs].values\n",
    "X_fs.shape"
   ]
  },
  {
   "cell_type": "code",
   "execution_count": 10,
   "id": "35f02ff8",
   "metadata": {},
   "outputs": [],
   "source": [
    "#Re-split train & test sets after feature selection\n",
    "X_train, X_test, y_train, y_test = train_test_split(X_fs,y, train_size = 0.8, test_size = 0.2, random_state = 0,stratify = y)"
   ]
  },
  {
   "cell_type": "code",
   "execution_count": 11,
   "id": "21f988c3",
   "metadata": {},
   "outputs": [
    {
     "data": {
      "text/plain": [
       "(27766, 23)"
      ]
     },
     "execution_count": 11,
     "metadata": {},
     "output_type": "execute_result"
    }
   ],
   "source": [
    "X_train.shape"
   ]
  },
  {
   "cell_type": "code",
   "execution_count": 12,
   "id": "e0e2cc18",
   "metadata": {},
   "outputs": [
    {
     "data": {
      "text/plain": [
       "1    13447\n",
       "5     6178\n",
       "7     2740\n",
       "0     1946\n",
       "8     1210\n",
       "9      784\n",
       "2      651\n",
       "6      366\n",
       "3      238\n",
       "4      206\n",
       "dtype: int64"
      ]
     },
     "execution_count": 12,
     "metadata": {},
     "output_type": "execute_result"
    }
   ],
   "source": [
    "pd.Series(y_train).value_counts()"
   ]
  },
  {
   "cell_type": "code",
   "execution_count": 13,
   "id": "12a672d5",
   "metadata": {},
   "outputs": [
    {
     "name": "stdout",
     "output_type": "stream",
     "text": [
      "Before Sampling:  Counter({1: 13447, 5: 6178, 7: 2740, 0: 1946, 8: 1210, 9: 784, 2: 651, 6: 366, 3: 238, 4: 206})\n"
     ]
    }
   ],
   "source": [
    "from collections import Counter\n",
    "print(\"Before Sampling: \",Counter(y_train))"
   ]
  },
  {
   "cell_type": "code",
   "execution_count": 14,
   "id": "2303190f",
   "metadata": {},
   "outputs": [],
   "source": [
    "from collections import Counter\n",
    "from imblearn.combine import SMOTETomek\n",
    "smote_tomek = SMOTETomek(random_state=0)\n",
    "X_trainf, y_trainf = smote_tomek.fit_resample(X_train, y_train)"
   ]
  },
  {
   "cell_type": "code",
   "execution_count": 15,
   "id": "67d6d299",
   "metadata": {},
   "outputs": [
    {
     "name": "stdout",
     "output_type": "stream",
     "text": [
      "[(0, 13399), (1, 13445), (2, 13414), (3, 13287), (4, 13385), (5, 13252), (6, 13431), (7, 13447), (8, 13409), (9, 13395)]\n"
     ]
    }
   ],
   "source": [
    "print(sorted(Counter(y_trainf).items()))"
   ]
  },
  {
   "cell_type": "code",
   "execution_count": 16,
   "id": "20ffaad7",
   "metadata": {},
   "outputs": [
    {
     "data": {
      "text/plain": [
       "7    13447\n",
       "1    13445\n",
       "6    13431\n",
       "2    13414\n",
       "8    13409\n",
       "0    13399\n",
       "9    13395\n",
       "4    13385\n",
       "3    13287\n",
       "5    13252\n",
       "dtype: int64"
      ]
     },
     "execution_count": 16,
     "metadata": {},
     "output_type": "execute_result"
    }
   ],
   "source": [
    "pd.Series(y_trainf).value_counts()"
   ]
  },
  {
   "cell_type": "code",
   "execution_count": 17,
   "id": "d8409526",
   "metadata": {},
   "outputs": [],
   "source": [
    "# Define k-fold cross-validation object\n",
    "cv = StratifiedKFold(n_splits=5, shuffle=True, random_state=0)"
   ]
  },
  {
   "cell_type": "code",
   "execution_count": 18,
   "id": "1ac3d9e7",
   "metadata": {},
   "outputs": [],
   "source": [
    "rf_clf = RandomForestClassifier()"
   ]
  },
  {
   "cell_type": "code",
   "execution_count": 19,
   "id": "2762e8ad",
   "metadata": {},
   "outputs": [
    {
     "name": "stdout",
     "output_type": "stream",
     "text": [
      "Best hyperparameters for Random Forest: {'max_depth': 7, 'max_features': 'log2', 'min_samples_leaf': 4, 'min_samples_split': 10, 'n_estimators': 1000}\n",
      "Best cross-validation score for Random Forest: 0.8829384121936223\n"
     ]
    }
   ],
   "source": [
    "\n",
    "# Define grid of hyperparameters to search over\n",
    "rf_param_grid = {\n",
    "    'n_estimators': [100, 500, 1000],\n",
    "    'max_depth': [3, 5, 7],\n",
    "    'min_samples_split': [2, 5, 10],\n",
    "    'min_samples_leaf': [1, 2, 4],\n",
    "    'max_features': ['sqrt', 'log2', None]\n",
    "}\n",
    "\n",
    "# Perform grid search for best hyperparameters using cross-validation\n",
    "rf_grid_search = GridSearchCV(estimator=rf_clf, param_grid=rf_param_grid, scoring='accuracy', n_jobs=-1, cv=cv)\n",
    "rf_grid_search.fit(X_trainf, y_trainf)\n",
    "\n",
    "# Print best hyperparameters and corresponding score\n",
    "print(\"Best hyperparameters for Random Forest:\", rf_grid_search.best_params_)\n",
    "print(\"Best cross-validation score for Random Forest:\", rf_grid_search.best_score_)"
   ]
  },
  {
   "cell_type": "code",
   "execution_count": null,
   "id": "535b801a",
   "metadata": {},
   "outputs": [],
   "source": [
    "# Train Random Forest model using best hyperparameters and predict on test set\n",
    "rf_best = rf_grid_search.best_estimator_\n",
    "rf_best.fit(X_trainf, y_trainf)\n",
    "y_pred_rf = rf_best.predict(X_test)"
   ]
  },
  {
   "cell_type": "code",
   "execution_count": null,
   "id": "b6b2dc3f",
   "metadata": {},
   "outputs": [],
   "source": [
    "# Calculate accuracy and confusion matrix for Random Forest model\n",
    "acc_rf = accuracy_score(y_test, y_pred_rf)\n",
    "cm_rf = confusion_matrix(y_test, y_pred_rf)\n",
    "print(\"Accuracy for Random Forest:\", acc_rf)\n",
    "print(\"Confusion matrix for Random Forest:\\n\", cm_rf)"
   ]
  },
  {
   "cell_type": "code",
   "execution_count": null,
   "id": "5cc7902f",
   "metadata": {},
   "outputs": [],
   "source": []
  },
  {
   "cell_type": "code",
   "execution_count": 17,
   "id": "745a9464",
   "metadata": {},
   "outputs": [
    {
     "name": "stdout",
     "output_type": "stream",
     "text": [
      "Accuracy of RF: 0.9507346585998271\n",
      "Precision of RF: 0.9676153342664785\n",
      "Recall of RF: 0.9507346585998271\n",
      "F1-score of RF: 0.9572569827884717\n",
      "              precision    recall  f1-score   support\n",
      "\n",
      "           0       0.95      0.97      0.96       487\n",
      "           1       1.00      1.00      1.00      3362\n",
      "           2       0.97      0.93      0.95       163\n",
      "           3       0.13      0.40      0.20        60\n",
      "           4       0.77      0.80      0.79        51\n",
      "           5       0.96      0.85      0.90      1545\n",
      "           6       0.88      0.97      0.92        91\n",
      "           7       0.99      1.00      0.99       685\n",
      "           8       0.98      0.94      0.96       302\n",
      "           9       0.73      0.97      0.83       196\n",
      "\n",
      "    accuracy                           0.95      6942\n",
      "   macro avg       0.84      0.88      0.85      6942\n",
      "weighted avg       0.97      0.95      0.96      6942\n",
      "\n"
     ]
    },
    {
     "data": {
      "image/png": "[encoded data removed]",
      "text/plain": [
       "<Figure size 500x500 with 2 Axes>"
      ]
     },
     "metadata": {},
     "output_type": "display_data"
    }
   ],
   "source": [
    "rf = RandomForestClassifier(max_depth=80, max_features= 'log2',min_samples_leaf= 4 ,min_samples_split= 10, n_estimators=1000)\n",
    "rf.fit(X_trainf,y_trainf) \n",
    "rf_score=rf.score(X_test,y_test)\n",
    "y_predict=rf.predict(X_test)\n",
    "y_true=y_test\n",
    "print('Accuracy of RF: '+ str(rf_score))\n",
    "precision,recall,fscore,none= precision_recall_fscore_support(y_true, y_predict, average='weighted') \n",
    "print('Precision of RF: '+(str(precision)))\n",
    "print('Recall of RF: '+(str(recall)))\n",
    "print('F1-score of RF: '+(str(fscore)))\n",
    "print(classification_report(y_true,y_predict))\n",
    "cm=confusion_matrix(y_true,y_predict)\n",
    "f,ax=plt.subplots(figsize=(5,5))\n",
    "sns.heatmap(cm,annot=True,linewidth=0.5,linecolor=\"red\",fmt=\".0f\",ax=ax)\n",
    "plt.xlabel(\"y_pred\")\n",
    "plt.ylabel(\"y_true\")\n",
    "plt.show()"
   ]
  },
  {
   "cell_type": "code",
   "execution_count": 23,
   "id": "47927c61",
   "metadata": {},
   "outputs": [
    {
     "name": "stdout",
     "output_type": "stream",
     "text": [
      "(133864, 23)\n",
      "(133864,)\n"
     ]
    }
   ],
   "source": [
    "print(X_trainf.shape)\n",
    "print(y_trainf.shape)"
   ]
  },
  {
   "cell_type": "code",
   "execution_count": 19,
   "id": "d30ebfe4",
   "metadata": {},
   "outputs": [
    {
     "name": "stdout",
     "output_type": "stream",
     "text": [
      "0.9832516583995697\n"
     ]
    }
   ],
   "source": [
    "y_pred=rf.predict(X_trainf)\n",
    "accuracy=accuracy_score(y_pred,y_trainf)\n",
    "print(accuracy)"
   ]
  },
  {
   "cell_type": "code",
   "execution_count": null,
   "id": "0572107c",
   "metadata": {},
   "outputs": [],
   "source": []
  }
 ],
 "metadata": {
  "kernelspec": {
   "display_name": "Python 3 (ipykernel)",
   "language": "python",
   "name": "python3"
  },
  "language_info": {
   "codemirror_mode": {
    "name": "ipython",
    "version": 3
   },
   "file_extension": ".py",
   "mimetype": "text/x-python",
   "name": "python",
   "nbconvert_exporter": "python",
   "pygments_lexer": "ipython3",
   "version": "3.10.9"
  }
 },
 "nbformat": 4,
 "nbformat_minor": 5
}
