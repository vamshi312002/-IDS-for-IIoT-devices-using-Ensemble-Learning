{
 "cells": [
  {
   "cell_type": "code",
   "execution_count": 1,
   "id": "91306a93",
   "metadata": {},
   "outputs": [],
   "source": [
    "import numpy as np\n",
    "import pandas as pd\n",
    "import seaborn as sns\n",
    "import matplotlib.pyplot as plt\n",
    "from sklearn.preprocessing import LabelEncoder \n",
    "from sklearn.model_selection import train_test_split\n",
    "from sklearn.metrics import classification_report,confusion_matrix,accuracy_score,precision_recall_fscore_support\n",
    "from sklearn.metrics import f1_score\n",
    "from sklearn.ensemble import RandomForestClassifier,ExtraTreesClassifier\n",
    "from sklearn.tree import DecisionTreeClassifier\n",
    "import xgboost as xgb\n",
    "from xgboost import plot_importance\n",
    "from sklearn.neighbors import KNeighborsClassifier\n",
    "from sklearn.multiclass import OneVsRestClassifier\n",
    "from sklearn.metrics import accuracy_score, precision_score, recall_score\n",
    "from sklearn import svm\n",
    "from sklearn.multiclass import OneVsRestClassifier\n",
    "from sklearn.model_selection import train_test_split\n",
    "from sklearn.metrics import accuracy_score\n",
    "from sklearn.model_selection import train_test_split, GridSearchCV, StratifiedKFold"
   ]
  },
  {
   "cell_type": "code",
   "execution_count": 2,
   "id": "24ea1eb4",
   "metadata": {},
   "outputs": [],
   "source": [
    "df = pd.read_csv('Sample-0004.csv')"
   ]
  },
  {
   "cell_type": "code",
   "execution_count": 3,
   "id": "c268d09a",
   "metadata": {},
   "outputs": [
    {
     "data": {
      "text/html": [
       "<div>\n",
       "<style scoped>\n",
       "    .dataframe tbody tr th:only-of-type {\n",
       "        vertical-align: middle;\n",
       "    }\n",
       "\n",
       "    .dataframe tbody tr th {\n",
       "        vertical-align: top;\n",
       "    }\n",
       "\n",
       "    .dataframe thead th {\n",
       "        text-align: right;\n",
       "    }\n",
       "</style>\n",
       "<table border=\"1\" class=\"dataframe\">\n",
       "  <thead>\n",
       "    <tr style=\"text-align: right;\">\n",
       "      <th></th>\n",
       "      <th>L4_SRC_PORT</th>\n",
       "      <th>L4_DST_PORT</th>\n",
       "      <th>PROTOCOL</th>\n",
       "      <th>L7_PROTO</th>\n",
       "      <th>IN_BYTES</th>\n",
       "      <th>IN_PKTS</th>\n",
       "      <th>OUT_BYTES</th>\n",
       "      <th>OUT_PKTS</th>\n",
       "      <th>TCP_FLAGS</th>\n",
       "      <th>CLIENT_TCP_FLAGS</th>\n",
       "      <th>...</th>\n",
       "      <th>TCP_WIN_MAX_IN</th>\n",
       "      <th>TCP_WIN_MAX_OUT</th>\n",
       "      <th>ICMP_TYPE</th>\n",
       "      <th>ICMP_IPV4_TYPE</th>\n",
       "      <th>DNS_QUERY_ID</th>\n",
       "      <th>DNS_QUERY_TYPE</th>\n",
       "      <th>DNS_TTL_ANSWER</th>\n",
       "      <th>FTP_COMMAND_RET_CODE</th>\n",
       "      <th>Label</th>\n",
       "      <th>Attack</th>\n",
       "    </tr>\n",
       "  </thead>\n",
       "  <tbody>\n",
       "    <tr>\n",
       "      <th>0</th>\n",
       "      <td>1.433158</td>\n",
       "      <td>-0.135424</td>\n",
       "      <td>-0.411514</td>\n",
       "      <td>-0.430135</td>\n",
       "      <td>-0.004761</td>\n",
       "      <td>-0.010526</td>\n",
       "      <td>-0.007826</td>\n",
       "      <td>-0.008587</td>\n",
       "      <td>0.815313</td>\n",
       "      <td>-0.686199</td>\n",
       "      <td>...</td>\n",
       "      <td>-0.710202</td>\n",
       "      <td>-0.575276</td>\n",
       "      <td>-0.104114</td>\n",
       "      <td>-0.104114</td>\n",
       "      <td>-0.345112</td>\n",
       "      <td>-0.178156</td>\n",
       "      <td>-0.087005</td>\n",
       "      <td>-0.057106</td>\n",
       "      <td>-1.333181</td>\n",
       "      <td>0</td>\n",
       "    </tr>\n",
       "    <tr>\n",
       "      <th>1</th>\n",
       "      <td>1.347939</td>\n",
       "      <td>-0.061015</td>\n",
       "      <td>-0.411514</td>\n",
       "      <td>-0.430135</td>\n",
       "      <td>-0.004761</td>\n",
       "      <td>-0.010526</td>\n",
       "      <td>-0.007826</td>\n",
       "      <td>-0.008587</td>\n",
       "      <td>0.815313</td>\n",
       "      <td>-0.686199</td>\n",
       "      <td>...</td>\n",
       "      <td>-0.710202</td>\n",
       "      <td>-0.575276</td>\n",
       "      <td>-0.104114</td>\n",
       "      <td>-0.104114</td>\n",
       "      <td>-0.345112</td>\n",
       "      <td>-0.178156</td>\n",
       "      <td>-0.087005</td>\n",
       "      <td>-0.057106</td>\n",
       "      <td>-1.333181</td>\n",
       "      <td>0</td>\n",
       "    </tr>\n",
       "    <tr>\n",
       "      <th>2</th>\n",
       "      <td>1.441331</td>\n",
       "      <td>-0.080833</td>\n",
       "      <td>-0.411514</td>\n",
       "      <td>-0.430135</td>\n",
       "      <td>-0.004761</td>\n",
       "      <td>-0.010526</td>\n",
       "      <td>-0.007826</td>\n",
       "      <td>-0.008587</td>\n",
       "      <td>0.815313</td>\n",
       "      <td>-0.686199</td>\n",
       "      <td>...</td>\n",
       "      <td>-0.710202</td>\n",
       "      <td>-0.575276</td>\n",
       "      <td>-0.104114</td>\n",
       "      <td>-0.104114</td>\n",
       "      <td>-0.345112</td>\n",
       "      <td>-0.178156</td>\n",
       "      <td>-0.087005</td>\n",
       "      <td>-0.057106</td>\n",
       "      <td>-1.333181</td>\n",
       "      <td>0</td>\n",
       "    </tr>\n",
       "    <tr>\n",
       "      <th>3</th>\n",
       "      <td>1.341744</td>\n",
       "      <td>-0.034491</td>\n",
       "      <td>-0.411514</td>\n",
       "      <td>-0.430135</td>\n",
       "      <td>-0.004761</td>\n",
       "      <td>-0.010526</td>\n",
       "      <td>-0.007826</td>\n",
       "      <td>-0.008587</td>\n",
       "      <td>0.815313</td>\n",
       "      <td>-0.686199</td>\n",
       "      <td>...</td>\n",
       "      <td>-0.710202</td>\n",
       "      <td>-0.575276</td>\n",
       "      <td>-0.104114</td>\n",
       "      <td>-0.104114</td>\n",
       "      <td>-0.345112</td>\n",
       "      <td>-0.178156</td>\n",
       "      <td>-0.087005</td>\n",
       "      <td>-0.057106</td>\n",
       "      <td>-1.333181</td>\n",
       "      <td>0</td>\n",
       "    </tr>\n",
       "    <tr>\n",
       "      <th>4</th>\n",
       "      <td>1.441067</td>\n",
       "      <td>-0.074840</td>\n",
       "      <td>-0.411514</td>\n",
       "      <td>-0.430135</td>\n",
       "      <td>-0.004761</td>\n",
       "      <td>-0.010526</td>\n",
       "      <td>-0.007826</td>\n",
       "      <td>-0.008587</td>\n",
       "      <td>0.815313</td>\n",
       "      <td>-0.686199</td>\n",
       "      <td>...</td>\n",
       "      <td>-0.710202</td>\n",
       "      <td>-0.575276</td>\n",
       "      <td>-0.104114</td>\n",
       "      <td>-0.104114</td>\n",
       "      <td>-0.345112</td>\n",
       "      <td>-0.178156</td>\n",
       "      <td>-0.087005</td>\n",
       "      <td>-0.057106</td>\n",
       "      <td>-1.333181</td>\n",
       "      <td>0</td>\n",
       "    </tr>\n",
       "    <tr>\n",
       "      <th>...</th>\n",
       "      <td>...</td>\n",
       "      <td>...</td>\n",
       "      <td>...</td>\n",
       "      <td>...</td>\n",
       "      <td>...</td>\n",
       "      <td>...</td>\n",
       "      <td>...</td>\n",
       "      <td>...</td>\n",
       "      <td>...</td>\n",
       "      <td>...</td>\n",
       "      <td>...</td>\n",
       "      <td>...</td>\n",
       "      <td>...</td>\n",
       "      <td>...</td>\n",
       "      <td>...</td>\n",
       "      <td>...</td>\n",
       "      <td>...</td>\n",
       "      <td>...</td>\n",
       "      <td>...</td>\n",
       "      <td>...</td>\n",
       "      <td>...</td>\n",
       "    </tr>\n",
       "    <tr>\n",
       "      <th>34703</th>\n",
       "      <td>0.076511</td>\n",
       "      <td>-0.524380</td>\n",
       "      <td>-0.411514</td>\n",
       "      <td>-0.430135</td>\n",
       "      <td>0.457547</td>\n",
       "      <td>0.087674</td>\n",
       "      <td>0.005299</td>\n",
       "      <td>0.065032</td>\n",
       "      <td>1.169754</td>\n",
       "      <td>1.512796</td>\n",
       "      <td>...</td>\n",
       "      <td>1.369987</td>\n",
       "      <td>-0.120571</td>\n",
       "      <td>-0.104114</td>\n",
       "      <td>-0.104114</td>\n",
       "      <td>-0.345112</td>\n",
       "      <td>-0.178156</td>\n",
       "      <td>-0.087005</td>\n",
       "      <td>-0.057106</td>\n",
       "      <td>0.750086</td>\n",
       "      <td>7</td>\n",
       "    </tr>\n",
       "    <tr>\n",
       "      <th>34704</th>\n",
       "      <td>-2.564483</td>\n",
       "      <td>2.369977</td>\n",
       "      <td>-0.411514</td>\n",
       "      <td>-0.430135</td>\n",
       "      <td>0.294406</td>\n",
       "      <td>0.350849</td>\n",
       "      <td>1.676032</td>\n",
       "      <td>0.929084</td>\n",
       "      <td>0.992534</td>\n",
       "      <td>1.329547</td>\n",
       "      <td>...</td>\n",
       "      <td>-0.648481</td>\n",
       "      <td>3.051206</td>\n",
       "      <td>-0.104114</td>\n",
       "      <td>-0.104114</td>\n",
       "      <td>-0.345112</td>\n",
       "      <td>-0.178156</td>\n",
       "      <td>-0.087005</td>\n",
       "      <td>-0.057106</td>\n",
       "      <td>0.750086</td>\n",
       "      <td>7</td>\n",
       "    </tr>\n",
       "    <tr>\n",
       "      <th>34705</th>\n",
       "      <td>-2.564483</td>\n",
       "      <td>2.371282</td>\n",
       "      <td>-0.411514</td>\n",
       "      <td>-0.430135</td>\n",
       "      <td>1.316805</td>\n",
       "      <td>0.291929</td>\n",
       "      <td>0.108340</td>\n",
       "      <td>0.177398</td>\n",
       "      <td>0.992534</td>\n",
       "      <td>1.329547</td>\n",
       "      <td>...</td>\n",
       "      <td>-0.726665</td>\n",
       "      <td>0.336410</td>\n",
       "      <td>-0.104114</td>\n",
       "      <td>-0.104114</td>\n",
       "      <td>-0.345112</td>\n",
       "      <td>-0.178156</td>\n",
       "      <td>-0.087005</td>\n",
       "      <td>-0.057106</td>\n",
       "      <td>0.750086</td>\n",
       "      <td>7</td>\n",
       "    </tr>\n",
       "    <tr>\n",
       "      <th>34706</th>\n",
       "      <td>-2.564483</td>\n",
       "      <td>2.370748</td>\n",
       "      <td>-0.411514</td>\n",
       "      <td>-0.430135</td>\n",
       "      <td>0.110479</td>\n",
       "      <td>0.152485</td>\n",
       "      <td>0.436717</td>\n",
       "      <td>0.278139</td>\n",
       "      <td>0.992534</td>\n",
       "      <td>1.329547</td>\n",
       "      <td>...</td>\n",
       "      <td>-0.429432</td>\n",
       "      <td>0.336410</td>\n",
       "      <td>-0.104114</td>\n",
       "      <td>-0.104114</td>\n",
       "      <td>-0.345112</td>\n",
       "      <td>-0.178156</td>\n",
       "      <td>-0.087005</td>\n",
       "      <td>-0.057106</td>\n",
       "      <td>0.750086</td>\n",
       "      <td>7</td>\n",
       "    </tr>\n",
       "    <tr>\n",
       "      <th>34707</th>\n",
       "      <td>0.385289</td>\n",
       "      <td>-0.287090</td>\n",
       "      <td>-0.411514</td>\n",
       "      <td>-0.430135</td>\n",
       "      <td>1.062210</td>\n",
       "      <td>0.399949</td>\n",
       "      <td>0.349318</td>\n",
       "      <td>0.619111</td>\n",
       "      <td>0.992534</td>\n",
       "      <td>1.329547</td>\n",
       "      <td>...</td>\n",
       "      <td>0.426829</td>\n",
       "      <td>-0.442894</td>\n",
       "      <td>-0.104114</td>\n",
       "      <td>-0.104114</td>\n",
       "      <td>-0.345112</td>\n",
       "      <td>-0.178156</td>\n",
       "      <td>-0.087005</td>\n",
       "      <td>-0.057106</td>\n",
       "      <td>0.750086</td>\n",
       "      <td>7</td>\n",
       "    </tr>\n",
       "  </tbody>\n",
       "</table>\n",
       "<p>34708 rows × 43 columns</p>\n",
       "</div>"
      ],
      "text/plain": [
       "       L4_SRC_PORT  L4_DST_PORT  PROTOCOL  L7_PROTO  IN_BYTES   IN_PKTS  \\\n",
       "0         1.433158    -0.135424 -0.411514 -0.430135 -0.004761 -0.010526   \n",
       "1         1.347939    -0.061015 -0.411514 -0.430135 -0.004761 -0.010526   \n",
       "2         1.441331    -0.080833 -0.411514 -0.430135 -0.004761 -0.010526   \n",
       "3         1.341744    -0.034491 -0.411514 -0.430135 -0.004761 -0.010526   \n",
       "4         1.441067    -0.074840 -0.411514 -0.430135 -0.004761 -0.010526   \n",
       "...            ...          ...       ...       ...       ...       ...   \n",
       "34703     0.076511    -0.524380 -0.411514 -0.430135  0.457547  0.087674   \n",
       "34704    -2.564483     2.369977 -0.411514 -0.430135  0.294406  0.350849   \n",
       "34705    -2.564483     2.371282 -0.411514 -0.430135  1.316805  0.291929   \n",
       "34706    -2.564483     2.370748 -0.411514 -0.430135  0.110479  0.152485   \n",
       "34707     0.385289    -0.287090 -0.411514 -0.430135  1.062210  0.399949   \n",
       "\n",
       "       OUT_BYTES  OUT_PKTS  TCP_FLAGS  CLIENT_TCP_FLAGS  ...  TCP_WIN_MAX_IN  \\\n",
       "0      -0.007826 -0.008587   0.815313         -0.686199  ...       -0.710202   \n",
       "1      -0.007826 -0.008587   0.815313         -0.686199  ...       -0.710202   \n",
       "2      -0.007826 -0.008587   0.815313         -0.686199  ...       -0.710202   \n",
       "3      -0.007826 -0.008587   0.815313         -0.686199  ...       -0.710202   \n",
       "4      -0.007826 -0.008587   0.815313         -0.686199  ...       -0.710202   \n",
       "...          ...       ...        ...               ...  ...             ...   \n",
       "34703   0.005299  0.065032   1.169754          1.512796  ...        1.369987   \n",
       "34704   1.676032  0.929084   0.992534          1.329547  ...       -0.648481   \n",
       "34705   0.108340  0.177398   0.992534          1.329547  ...       -0.726665   \n",
       "34706   0.436717  0.278139   0.992534          1.329547  ...       -0.429432   \n",
       "34707   0.349318  0.619111   0.992534          1.329547  ...        0.426829   \n",
       "\n",
       "       TCP_WIN_MAX_OUT  ICMP_TYPE  ICMP_IPV4_TYPE  DNS_QUERY_ID  \\\n",
       "0            -0.575276  -0.104114       -0.104114     -0.345112   \n",
       "1            -0.575276  -0.104114       -0.104114     -0.345112   \n",
       "2            -0.575276  -0.104114       -0.104114     -0.345112   \n",
       "3            -0.575276  -0.104114       -0.104114     -0.345112   \n",
       "4            -0.575276  -0.104114       -0.104114     -0.345112   \n",
       "...                ...        ...             ...           ...   \n",
       "34703        -0.120571  -0.104114       -0.104114     -0.345112   \n",
       "34704         3.051206  -0.104114       -0.104114     -0.345112   \n",
       "34705         0.336410  -0.104114       -0.104114     -0.345112   \n",
       "34706         0.336410  -0.104114       -0.104114     -0.345112   \n",
       "34707        -0.442894  -0.104114       -0.104114     -0.345112   \n",
       "\n",
       "       DNS_QUERY_TYPE  DNS_TTL_ANSWER  FTP_COMMAND_RET_CODE     Label  Attack  \n",
       "0           -0.178156       -0.087005             -0.057106 -1.333181       0  \n",
       "1           -0.178156       -0.087005             -0.057106 -1.333181       0  \n",
       "2           -0.178156       -0.087005             -0.057106 -1.333181       0  \n",
       "3           -0.178156       -0.087005             -0.057106 -1.333181       0  \n",
       "4           -0.178156       -0.087005             -0.057106 -1.333181       0  \n",
       "...               ...             ...                   ...       ...     ...  \n",
       "34703       -0.178156       -0.087005             -0.057106  0.750086       7  \n",
       "34704       -0.178156       -0.087005             -0.057106  0.750086       7  \n",
       "34705       -0.178156       -0.087005             -0.057106  0.750086       7  \n",
       "34706       -0.178156       -0.087005             -0.057106  0.750086       7  \n",
       "34707       -0.178156       -0.087005             -0.057106  0.750086       7  \n",
       "\n",
       "[34708 rows x 43 columns]"
      ]
     },
     "execution_count": 3,
     "metadata": {},
     "output_type": "execute_result"
    }
   ],
   "source": [
    "df"
   ]
  },
  {
   "cell_type": "code",
   "execution_count": 4,
   "id": "5e2fc31b",
   "metadata": {},
   "outputs": [],
   "source": [
    "X = df.drop(['Attack'],axis=1).values\n",
    "y = df.iloc[:, -1].values.reshape(-1,1)\n",
    "y=np.ravel(y)"
   ]
  },
  {
   "cell_type": "code",
   "execution_count": 5,
   "id": "9b7e4f93",
   "metadata": {},
   "outputs": [],
   "source": [
    "X_train, X_test, y_train, y_test = train_test_split(X,y, train_size = 0.8, test_size = 0.2, random_state = 0,stratify = y)"
   ]
  },
  {
   "cell_type": "code",
   "execution_count": 6,
   "id": "7b33f318",
   "metadata": {},
   "outputs": [],
   "source": [
    "features = df.dtypes[df.dtypes != 'object'].index"
   ]
  },
  {
   "cell_type": "code",
   "execution_count": 7,
   "id": "02dab2b9",
   "metadata": {},
   "outputs": [],
   "source": [
    "#Feature engineering\n",
    "#Feature selection by information gain\n",
    "from sklearn.feature_selection import mutual_info_classif\n",
    "importances = mutual_info_classif(X_train, y_train)\n",
    "# calculate the sum of importance scores\n",
    "f_list = sorted(zip(map(lambda x: round(x, 4), importances), features), reverse=True)\n",
    "Sum = 0\n",
    "fs = []\n",
    "for i in range(0, len(f_list)):\n",
    "    Sum = Sum + f_list[i][0]\n",
    "    fs.append(f_list[i][1])"
   ]
  },
  {
   "cell_type": "code",
   "execution_count": 8,
   "id": "a3f5366e",
   "metadata": {},
   "outputs": [],
   "source": [
    "# select the important features from top to bottom until the accumulated importance reaches 90%\n",
    "f_list2 = sorted(zip(map(lambda x: round(x, 4), importances/Sum), features), reverse=True)\n",
    "Sum2 = 0\n",
    "fs = []\n",
    "for i in range(0, len(f_list2)):\n",
    "    Sum2 = Sum2 + f_list2[i][0]\n",
    "    fs.append(f_list2[i][1])\n",
    "    if Sum2>=0.9:\n",
    "        break        \n"
   ]
  },
  {
   "cell_type": "code",
   "execution_count": 9,
   "id": "8efbfc98",
   "metadata": {},
   "outputs": [
    {
     "data": {
      "text/plain": [
       "(34708, 22)"
      ]
     },
     "execution_count": 9,
     "metadata": {},
     "output_type": "execute_result"
    }
   ],
   "source": [
    "X_fs = df[fs].values\n",
    "X_fs.shape"
   ]
  },
  {
   "cell_type": "code",
   "execution_count": 10,
   "id": "35f02ff8",
   "metadata": {},
   "outputs": [],
   "source": [
    "#Re-split train & test sets after feature selection\n",
    "X_train, X_test, y_train, y_test = train_test_split(X_fs,y, train_size = 0.8, test_size = 0.2, random_state = 0,stratify = y)"
   ]
  },
  {
   "cell_type": "code",
   "execution_count": 11,
   "id": "21f988c3",
   "metadata": {},
   "outputs": [
    {
     "data": {
      "text/plain": [
       "(27766, 22)"
      ]
     },
     "execution_count": 11,
     "metadata": {},
     "output_type": "execute_result"
    }
   ],
   "source": [
    "X_train.shape"
   ]
  },
  {
   "cell_type": "code",
   "execution_count": 12,
   "id": "e0e2cc18",
   "metadata": {},
   "outputs": [
    {
     "data": {
      "text/plain": [
       "1    13447\n",
       "5     6178\n",
       "7     2740\n",
       "0     1946\n",
       "8     1210\n",
       "9      784\n",
       "2      651\n",
       "6      366\n",
       "3      238\n",
       "4      206\n",
       "dtype: int64"
      ]
     },
     "execution_count": 12,
     "metadata": {},
     "output_type": "execute_result"
    }
   ],
   "source": [
    "pd.Series(y_train).value_counts()"
   ]
  },
  {
   "cell_type": "code",
   "execution_count": 13,
   "id": "12a672d5",
   "metadata": {},
   "outputs": [
    {
     "name": "stdout",
     "output_type": "stream",
     "text": [
      "Before Sampling:  Counter({1: 13447, 5: 6178, 7: 2740, 0: 1946, 8: 1210, 9: 784, 2: 651, 6: 366, 3: 238, 4: 206})\n"
     ]
    }
   ],
   "source": [
    "from collections import Counter\n",
    "print(\"Before Sampling: \",Counter(y_train))"
   ]
  },
  {
   "cell_type": "code",
   "execution_count": 14,
   "id": "2303190f",
   "metadata": {},
   "outputs": [],
   "source": [
    "from collections import Counter\n",
    "from imblearn.combine import SMOTETomek\n",
    "smote_tomek = SMOTETomek(random_state=0)\n",
    "X_trainf, y_trainf = smote_tomek.fit_resample(X_train, y_train)"
   ]
  },
  {
   "cell_type": "code",
   "execution_count": 15,
   "id": "67d6d299",
   "metadata": {},
   "outputs": [
    {
     "name": "stdout",
     "output_type": "stream",
     "text": [
      "[(0, 13398), (1, 13443), (2, 13400), (3, 12978), (4, 13276), (5, 12903), (6, 13431), (7, 13447), (8, 13408), (9, 13152)]\n"
     ]
    }
   ],
   "source": [
    "print(sorted(Counter(y_trainf).items()))"
   ]
  },
  {
   "cell_type": "code",
   "execution_count": 16,
   "id": "20ffaad7",
   "metadata": {},
   "outputs": [
    {
     "data": {
      "text/plain": [
       "7    13447\n",
       "1    13443\n",
       "6    13431\n",
       "8    13408\n",
       "2    13400\n",
       "0    13398\n",
       "4    13276\n",
       "9    13152\n",
       "3    12978\n",
       "5    12903\n",
       "dtype: int64"
      ]
     },
     "execution_count": 16,
     "metadata": {},
     "output_type": "execute_result"
    }
   ],
   "source": [
    "pd.Series(y_trainf).value_counts()"
   ]
  },
  {
   "cell_type": "code",
   "execution_count": 17,
   "id": "9b6e82f8",
   "metadata": {},
   "outputs": [
    {
     "name": "stdout",
     "output_type": "stream",
     "text": [
      "CPU times: total: 0 ns\n",
      "Wall time: 0 ns\n"
     ]
    }
   ],
   "source": [
    "%time\n",
    "from sklearn.ensemble import ExtraTreesClassifier\n",
    "from sklearn.model_selection import GridSearchCV, StratifiedKFold\n",
    "# define the Extra Trees model\n",
    "et_model = ExtraTreesClassifier()"
   ]
  },
  {
   "cell_type": "code",
   "execution_count": 18,
   "id": "2401a609",
   "metadata": {},
   "outputs": [
    {
     "name": "stdout",
     "output_type": "stream",
     "text": [
      "CPU times: total: 0 ns\n",
      "Wall time: 0 ns\n",
      "Best hyperparameters for Extra Trees:  {'bootstrap': False, 'max_depth': None, 'min_samples_leaf': 1, 'min_samples_split': 2, 'n_estimators': 150}\n"
     ]
    }
   ],
   "source": [
    "# define the parameter grid for hyperparameter tuning\n",
    "%time\n",
    "param_grid = {'n_estimators': [50, 100, 150, 200],\n",
    "              'max_depth': [5, 10, 15, None],\n",
    "              'min_samples_split': [2, 5, 10],\n",
    "              'min_samples_leaf': [1, 2, 4],\n",
    "              'bootstrap': [True, False]}\n",
    "\n",
    "# define the stratified k-fold cross-validation object\n",
    "cv = StratifiedKFold(n_splits=5, shuffle=True, random_state=0)\n",
    "\n",
    "# perform hyperparameter tuning using grid search\n",
    "et_grid = GridSearchCV(estimator=et_model, param_grid=param_grid, cv=cv, scoring='accuracy', n_jobs=-1)\n",
    "et_grid.fit(X_trainf, y_trainf)\n",
    "\n",
    "# print the best hyperparameters\n",
    "print(\"Best hyperparameters for Extra Trees: \", et_grid.best_params_)"
   ]
  },
  {
   "cell_type": "code",
   "execution_count": null,
   "id": "106cd948",
   "metadata": {},
   "outputs": [],
   "source": [
    "# use the best hyperparameters to fit the Extra Trees model\n",
    "import time\n",
    "\n",
    "start_time = time.time()\n",
    "\n",
    "# Your code block here\n",
    "# %%time\n",
    "et_model = ExtraTreesClassifier(**et_grid.best_params_)\n",
    "et_model.fit(X_trainf, y_trainf)\n",
    "\n",
    "end_time = time.time()\n",
    "execution_time = end_time - start_time\n",
    "\n",
    "print(f\"Execution time: {execution_time} seconds\")"
   ]
  },
  {
   "cell_type": "code",
   "execution_count": 20,
   "id": "5d080216",
   "metadata": {},
   "outputs": [
    {
     "name": "stdout",
     "output_type": "stream",
     "text": [
      "CPU times: total: 0 ns\n",
      "Wall time: 0 ns\n",
      "Accuracy of Extra Trees model: 96.85%\n"
     ]
    }
   ],
   "source": [
    "# evaluate the Extra Trees model on the test set\n",
    "%time\n",
    "et_accuracy = et_model.score(X_test, y_test)\n",
    "print(\"Accuracy of Extra Trees model: {:.2f}%\".format(et_accuracy*100))"
   ]
  },
  {
   "cell_type": "code",
   "execution_count": 21,
   "id": "646d9c7f",
   "metadata": {},
   "outputs": [
    {
     "name": "stdout",
     "output_type": "stream",
     "text": [
      "CPU times: total: 0 ns\n",
      "Wall time: 0 ns\n",
      "Accuracy of Extra Trees: 0.9684528954191876\n",
      "Precision of Extra Trees: 0.9722121093897398\n",
      "Recall of Extra Trees: 0.9684528954191876\n",
      "Average F1 of Extra Trees: 0.9698264915509724\n",
      "F1 of CatBoost for each type of attack: [0.95238095 0.99910741 0.93939394 0.55405405 0.64347826 0.95655058\n",
      " 0.92473118 0.99635834 0.9324547  0.83886256]\n",
      "              precision    recall  f1-score   support\n",
      "\n",
      "           0       0.96      0.94      0.95       487\n",
      "           1       1.00      1.00      1.00      3362\n",
      "           2       0.93      0.95      0.94       163\n",
      "           3       0.47      0.68      0.55        60\n",
      "           4       0.58      0.73      0.64        51\n",
      "           5       0.98      0.93      0.96      1545\n",
      "           6       0.91      0.95      0.92        91\n",
      "           7       0.99      1.00      1.00       685\n",
      "           8       0.93      0.94      0.93       302\n",
      "           9       0.78      0.90      0.84       196\n",
      "\n",
      "    accuracy                           0.97      6942\n",
      "   macro avg       0.85      0.90      0.87      6942\n",
      "weighted avg       0.97      0.97      0.97      6942\n",
      "\n"
     ]
    }
   ],
   "source": [
    "\n",
    "%time\n",
    "y_pred = et_model.predict(X_test)\n",
    "print(\"Accuracy of Extra Trees: \"+ str(accuracy_score(y_test, y_pred)))\n",
    "print(\"Precision of Extra Trees: \"+ str(precision_score(y_test, y_pred, average='weighted')))\n",
    "print(\"Recall of Extra Trees: \"+ str(recall_score(y_test, y_pred, average='weighted')))\n",
    "print(\"Average F1 of Extra Trees: \"+ str(f1_score(y_test, y_pred, average='weighted')))\n",
    "print(\"F1 of CatBoost for each type of attack: \"+ str(f1_score(y_test, y_pred, average=None)))\n",
    "print(classification_report(y_test,y_pred))"
   ]
  },
  {
   "cell_type": "code",
   "execution_count": 22,
   "id": "1f1a1079",
   "metadata": {},
   "outputs": [
    {
     "name": "stdout",
     "output_type": "stream",
     "text": [
      "CPU times: total: 0 ns\n",
      "Wall time: 0 ns\n",
      "0.9999849438405252\n"
     ]
    }
   ],
   "source": [
    "%time\n",
    "y_pred_train =et_model.predict(X_trainf)\n",
    "accuracy=accuracy_score(y_pred_train,y_trainf)\n",
    "print(accuracy)"
   ]
  },
  {
   "cell_type": "code",
   "execution_count": null,
   "id": "b88a2f28",
   "metadata": {},
   "outputs": [],
   "source": []
  }
 ],
 "metadata": {
  "kernelspec": {
   "display_name": "Python 3 (ipykernel)",
   "language": "python",
   "name": "python3"
  },
  "language_info": {
   "codemirror_mode": {
    "name": "ipython",
    "version": 3
   },
   "file_extension": ".py",
   "mimetype": "text/x-python",
   "name": "python",
   "nbconvert_exporter": "python",
   "pygments_lexer": "ipython3",
   "version": "3.10.9"
  }
 },
 "nbformat": 4,
 "nbformat_minor": 5
}
