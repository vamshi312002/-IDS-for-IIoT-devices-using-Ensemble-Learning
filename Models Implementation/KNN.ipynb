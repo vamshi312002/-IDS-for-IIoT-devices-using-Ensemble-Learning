{
 "cells": [
  {
   "cell_type": "code",
   "execution_count": 1,
   "id": "91306a93",
   "metadata": {},
   "outputs": [],
   "source": [
    "import numpy as np\n",
    "import pandas as pd\n",
    "import seaborn as sns\n",
    "import matplotlib.pyplot as plt\n",
    "from sklearn.preprocessing import LabelEncoder \n",
    "from sklearn.model_selection import train_test_split\n",
    "from sklearn.metrics import classification_report,confusion_matrix,accuracy_score,precision_recall_fscore_support\n",
    "from sklearn.metrics import f1_score\n",
    "from sklearn.ensemble import RandomForestClassifier,ExtraTreesClassifier\n",
    "from sklearn.tree import DecisionTreeClassifier\n",
    "import xgboost as xgb\n",
    "from xgboost import plot_importance\n",
    "from sklearn.neighbors import KNeighborsClassifier\n",
    "from sklearn.multiclass import OneVsRestClassifier\n",
    "from sklearn.metrics import accuracy_score, precision_score, recall_score\n",
    "from sklearn import svm\n",
    "from sklearn.multiclass import OneVsRestClassifier\n",
    "from sklearn.model_selection import train_test_split\n",
    "from sklearn.metrics import accuracy_score\n",
    "from sklearn.model_selection import train_test_split, GridSearchCV, StratifiedKFold"
   ]
  },
  {
   "cell_type": "code",
   "execution_count": 2,
   "id": "24ea1eb4",
   "metadata": {},
   "outputs": [],
   "source": [
    "df = pd.read_csv('Sample-0004.csv')"
   ]
  },
  {
   "cell_type": "code",
   "execution_count": 3,
   "id": "c268d09a",
   "metadata": {},
   "outputs": [
    {
     "data": {
      "text/html": [
       "<div>\n",
       "<style scoped>\n",
       "    .dataframe tbody tr th:only-of-type {\n",
       "        vertical-align: middle;\n",
       "    }\n",
       "\n",
       "    .dataframe tbody tr th {\n",
       "        vertical-align: top;\n",
       "    }\n",
       "\n",
       "    .dataframe thead th {\n",
       "        text-align: right;\n",
       "    }\n",
       "</style>\n",
       "<table border=\"1\" class=\"dataframe\">\n",
       "  <thead>\n",
       "    <tr style=\"text-align: right;\">\n",
       "      <th></th>\n",
       "      <th>L4_SRC_PORT</th>\n",
       "      <th>L4_DST_PORT</th>\n",
       "      <th>PROTOCOL</th>\n",
       "      <th>L7_PROTO</th>\n",
       "      <th>IN_BYTES</th>\n",
       "      <th>IN_PKTS</th>\n",
       "      <th>OUT_BYTES</th>\n",
       "      <th>OUT_PKTS</th>\n",
       "      <th>TCP_FLAGS</th>\n",
       "      <th>CLIENT_TCP_FLAGS</th>\n",
       "      <th>...</th>\n",
       "      <th>TCP_WIN_MAX_IN</th>\n",
       "      <th>TCP_WIN_MAX_OUT</th>\n",
       "      <th>ICMP_TYPE</th>\n",
       "      <th>ICMP_IPV4_TYPE</th>\n",
       "      <th>DNS_QUERY_ID</th>\n",
       "      <th>DNS_QUERY_TYPE</th>\n",
       "      <th>DNS_TTL_ANSWER</th>\n",
       "      <th>FTP_COMMAND_RET_CODE</th>\n",
       "      <th>Label</th>\n",
       "      <th>Attack</th>\n",
       "    </tr>\n",
       "  </thead>\n",
       "  <tbody>\n",
       "    <tr>\n",
       "      <th>0</th>\n",
       "      <td>1.433158</td>\n",
       "      <td>-0.135424</td>\n",
       "      <td>-0.411514</td>\n",
       "      <td>-0.430135</td>\n",
       "      <td>-0.004761</td>\n",
       "      <td>-0.010526</td>\n",
       "      <td>-0.007826</td>\n",
       "      <td>-0.008587</td>\n",
       "      <td>0.815313</td>\n",
       "      <td>-0.686199</td>\n",
       "      <td>...</td>\n",
       "      <td>-0.710202</td>\n",
       "      <td>-0.575276</td>\n",
       "      <td>-0.104114</td>\n",
       "      <td>-0.104114</td>\n",
       "      <td>-0.345112</td>\n",
       "      <td>-0.178156</td>\n",
       "      <td>-0.087005</td>\n",
       "      <td>-0.057106</td>\n",
       "      <td>-1.333181</td>\n",
       "      <td>0</td>\n",
       "    </tr>\n",
       "    <tr>\n",
       "      <th>1</th>\n",
       "      <td>1.347939</td>\n",
       "      <td>-0.061015</td>\n",
       "      <td>-0.411514</td>\n",
       "      <td>-0.430135</td>\n",
       "      <td>-0.004761</td>\n",
       "      <td>-0.010526</td>\n",
       "      <td>-0.007826</td>\n",
       "      <td>-0.008587</td>\n",
       "      <td>0.815313</td>\n",
       "      <td>-0.686199</td>\n",
       "      <td>...</td>\n",
       "      <td>-0.710202</td>\n",
       "      <td>-0.575276</td>\n",
       "      <td>-0.104114</td>\n",
       "      <td>-0.104114</td>\n",
       "      <td>-0.345112</td>\n",
       "      <td>-0.178156</td>\n",
       "      <td>-0.087005</td>\n",
       "      <td>-0.057106</td>\n",
       "      <td>-1.333181</td>\n",
       "      <td>0</td>\n",
       "    </tr>\n",
       "    <tr>\n",
       "      <th>2</th>\n",
       "      <td>1.441331</td>\n",
       "      <td>-0.080833</td>\n",
       "      <td>-0.411514</td>\n",
       "      <td>-0.430135</td>\n",
       "      <td>-0.004761</td>\n",
       "      <td>-0.010526</td>\n",
       "      <td>-0.007826</td>\n",
       "      <td>-0.008587</td>\n",
       "      <td>0.815313</td>\n",
       "      <td>-0.686199</td>\n",
       "      <td>...</td>\n",
       "      <td>-0.710202</td>\n",
       "      <td>-0.575276</td>\n",
       "      <td>-0.104114</td>\n",
       "      <td>-0.104114</td>\n",
       "      <td>-0.345112</td>\n",
       "      <td>-0.178156</td>\n",
       "      <td>-0.087005</td>\n",
       "      <td>-0.057106</td>\n",
       "      <td>-1.333181</td>\n",
       "      <td>0</td>\n",
       "    </tr>\n",
       "    <tr>\n",
       "      <th>3</th>\n",
       "      <td>1.341744</td>\n",
       "      <td>-0.034491</td>\n",
       "      <td>-0.411514</td>\n",
       "      <td>-0.430135</td>\n",
       "      <td>-0.004761</td>\n",
       "      <td>-0.010526</td>\n",
       "      <td>-0.007826</td>\n",
       "      <td>-0.008587</td>\n",
       "      <td>0.815313</td>\n",
       "      <td>-0.686199</td>\n",
       "      <td>...</td>\n",
       "      <td>-0.710202</td>\n",
       "      <td>-0.575276</td>\n",
       "      <td>-0.104114</td>\n",
       "      <td>-0.104114</td>\n",
       "      <td>-0.345112</td>\n",
       "      <td>-0.178156</td>\n",
       "      <td>-0.087005</td>\n",
       "      <td>-0.057106</td>\n",
       "      <td>-1.333181</td>\n",
       "      <td>0</td>\n",
       "    </tr>\n",
       "    <tr>\n",
       "      <th>4</th>\n",
       "      <td>1.441067</td>\n",
       "      <td>-0.074840</td>\n",
       "      <td>-0.411514</td>\n",
       "      <td>-0.430135</td>\n",
       "      <td>-0.004761</td>\n",
       "      <td>-0.010526</td>\n",
       "      <td>-0.007826</td>\n",
       "      <td>-0.008587</td>\n",
       "      <td>0.815313</td>\n",
       "      <td>-0.686199</td>\n",
       "      <td>...</td>\n",
       "      <td>-0.710202</td>\n",
       "      <td>-0.575276</td>\n",
       "      <td>-0.104114</td>\n",
       "      <td>-0.104114</td>\n",
       "      <td>-0.345112</td>\n",
       "      <td>-0.178156</td>\n",
       "      <td>-0.087005</td>\n",
       "      <td>-0.057106</td>\n",
       "      <td>-1.333181</td>\n",
       "      <td>0</td>\n",
       "    </tr>\n",
       "    <tr>\n",
       "      <th>...</th>\n",
       "      <td>...</td>\n",
       "      <td>...</td>\n",
       "      <td>...</td>\n",
       "      <td>...</td>\n",
       "      <td>...</td>\n",
       "      <td>...</td>\n",
       "      <td>...</td>\n",
       "      <td>...</td>\n",
       "      <td>...</td>\n",
       "      <td>...</td>\n",
       "      <td>...</td>\n",
       "      <td>...</td>\n",
       "      <td>...</td>\n",
       "      <td>...</td>\n",
       "      <td>...</td>\n",
       "      <td>...</td>\n",
       "      <td>...</td>\n",
       "      <td>...</td>\n",
       "      <td>...</td>\n",
       "      <td>...</td>\n",
       "      <td>...</td>\n",
       "    </tr>\n",
       "    <tr>\n",
       "      <th>34703</th>\n",
       "      <td>0.076511</td>\n",
       "      <td>-0.524380</td>\n",
       "      <td>-0.411514</td>\n",
       "      <td>-0.430135</td>\n",
       "      <td>0.457547</td>\n",
       "      <td>0.087674</td>\n",
       "      <td>0.005299</td>\n",
       "      <td>0.065032</td>\n",
       "      <td>1.169754</td>\n",
       "      <td>1.512796</td>\n",
       "      <td>...</td>\n",
       "      <td>1.369987</td>\n",
       "      <td>-0.120571</td>\n",
       "      <td>-0.104114</td>\n",
       "      <td>-0.104114</td>\n",
       "      <td>-0.345112</td>\n",
       "      <td>-0.178156</td>\n",
       "      <td>-0.087005</td>\n",
       "      <td>-0.057106</td>\n",
       "      <td>0.750086</td>\n",
       "      <td>7</td>\n",
       "    </tr>\n",
       "    <tr>\n",
       "      <th>34704</th>\n",
       "      <td>-2.564483</td>\n",
       "      <td>2.369977</td>\n",
       "      <td>-0.411514</td>\n",
       "      <td>-0.430135</td>\n",
       "      <td>0.294406</td>\n",
       "      <td>0.350849</td>\n",
       "      <td>1.676032</td>\n",
       "      <td>0.929084</td>\n",
       "      <td>0.992534</td>\n",
       "      <td>1.329547</td>\n",
       "      <td>...</td>\n",
       "      <td>-0.648481</td>\n",
       "      <td>3.051206</td>\n",
       "      <td>-0.104114</td>\n",
       "      <td>-0.104114</td>\n",
       "      <td>-0.345112</td>\n",
       "      <td>-0.178156</td>\n",
       "      <td>-0.087005</td>\n",
       "      <td>-0.057106</td>\n",
       "      <td>0.750086</td>\n",
       "      <td>7</td>\n",
       "    </tr>\n",
       "    <tr>\n",
       "      <th>34705</th>\n",
       "      <td>-2.564483</td>\n",
       "      <td>2.371282</td>\n",
       "      <td>-0.411514</td>\n",
       "      <td>-0.430135</td>\n",
       "      <td>1.316805</td>\n",
       "      <td>0.291929</td>\n",
       "      <td>0.108340</td>\n",
       "      <td>0.177398</td>\n",
       "      <td>0.992534</td>\n",
       "      <td>1.329547</td>\n",
       "      <td>...</td>\n",
       "      <td>-0.726665</td>\n",
       "      <td>0.336410</td>\n",
       "      <td>-0.104114</td>\n",
       "      <td>-0.104114</td>\n",
       "      <td>-0.345112</td>\n",
       "      <td>-0.178156</td>\n",
       "      <td>-0.087005</td>\n",
       "      <td>-0.057106</td>\n",
       "      <td>0.750086</td>\n",
       "      <td>7</td>\n",
       "    </tr>\n",
       "    <tr>\n",
       "      <th>34706</th>\n",
       "      <td>-2.564483</td>\n",
       "      <td>2.370748</td>\n",
       "      <td>-0.411514</td>\n",
       "      <td>-0.430135</td>\n",
       "      <td>0.110479</td>\n",
       "      <td>0.152485</td>\n",
       "      <td>0.436717</td>\n",
       "      <td>0.278139</td>\n",
       "      <td>0.992534</td>\n",
       "      <td>1.329547</td>\n",
       "      <td>...</td>\n",
       "      <td>-0.429432</td>\n",
       "      <td>0.336410</td>\n",
       "      <td>-0.104114</td>\n",
       "      <td>-0.104114</td>\n",
       "      <td>-0.345112</td>\n",
       "      <td>-0.178156</td>\n",
       "      <td>-0.087005</td>\n",
       "      <td>-0.057106</td>\n",
       "      <td>0.750086</td>\n",
       "      <td>7</td>\n",
       "    </tr>\n",
       "    <tr>\n",
       "      <th>34707</th>\n",
       "      <td>0.385289</td>\n",
       "      <td>-0.287090</td>\n",
       "      <td>-0.411514</td>\n",
       "      <td>-0.430135</td>\n",
       "      <td>1.062210</td>\n",
       "      <td>0.399949</td>\n",
       "      <td>0.349318</td>\n",
       "      <td>0.619111</td>\n",
       "      <td>0.992534</td>\n",
       "      <td>1.329547</td>\n",
       "      <td>...</td>\n",
       "      <td>0.426829</td>\n",
       "      <td>-0.442894</td>\n",
       "      <td>-0.104114</td>\n",
       "      <td>-0.104114</td>\n",
       "      <td>-0.345112</td>\n",
       "      <td>-0.178156</td>\n",
       "      <td>-0.087005</td>\n",
       "      <td>-0.057106</td>\n",
       "      <td>0.750086</td>\n",
       "      <td>7</td>\n",
       "    </tr>\n",
       "  </tbody>\n",
       "</table>\n",
       "<p>34708 rows × 43 columns</p>\n",
       "</div>"
      ],
      "text/plain": [
       "       L4_SRC_PORT  L4_DST_PORT  PROTOCOL  L7_PROTO  IN_BYTES   IN_PKTS  \\\n",
       "0         1.433158    -0.135424 -0.411514 -0.430135 -0.004761 -0.010526   \n",
       "1         1.347939    -0.061015 -0.411514 -0.430135 -0.004761 -0.010526   \n",
       "2         1.441331    -0.080833 -0.411514 -0.430135 -0.004761 -0.010526   \n",
       "3         1.341744    -0.034491 -0.411514 -0.430135 -0.004761 -0.010526   \n",
       "4         1.441067    -0.074840 -0.411514 -0.430135 -0.004761 -0.010526   \n",
       "...            ...          ...       ...       ...       ...       ...   \n",
       "34703     0.076511    -0.524380 -0.411514 -0.430135  0.457547  0.087674   \n",
       "34704    -2.564483     2.369977 -0.411514 -0.430135  0.294406  0.350849   \n",
       "34705    -2.564483     2.371282 -0.411514 -0.430135  1.316805  0.291929   \n",
       "34706    -2.564483     2.370748 -0.411514 -0.430135  0.110479  0.152485   \n",
       "34707     0.385289    -0.287090 -0.411514 -0.430135  1.062210  0.399949   \n",
       "\n",
       "       OUT_BYTES  OUT_PKTS  TCP_FLAGS  CLIENT_TCP_FLAGS  ...  TCP_WIN_MAX_IN  \\\n",
       "0      -0.007826 -0.008587   0.815313         -0.686199  ...       -0.710202   \n",
       "1      -0.007826 -0.008587   0.815313         -0.686199  ...       -0.710202   \n",
       "2      -0.007826 -0.008587   0.815313         -0.686199  ...       -0.710202   \n",
       "3      -0.007826 -0.008587   0.815313         -0.686199  ...       -0.710202   \n",
       "4      -0.007826 -0.008587   0.815313         -0.686199  ...       -0.710202   \n",
       "...          ...       ...        ...               ...  ...             ...   \n",
       "34703   0.005299  0.065032   1.169754          1.512796  ...        1.369987   \n",
       "34704   1.676032  0.929084   0.992534          1.329547  ...       -0.648481   \n",
       "34705   0.108340  0.177398   0.992534          1.329547  ...       -0.726665   \n",
       "34706   0.436717  0.278139   0.992534          1.329547  ...       -0.429432   \n",
       "34707   0.349318  0.619111   0.992534          1.329547  ...        0.426829   \n",
       "\n",
       "       TCP_WIN_MAX_OUT  ICMP_TYPE  ICMP_IPV4_TYPE  DNS_QUERY_ID  \\\n",
       "0            -0.575276  -0.104114       -0.104114     -0.345112   \n",
       "1            -0.575276  -0.104114       -0.104114     -0.345112   \n",
       "2            -0.575276  -0.104114       -0.104114     -0.345112   \n",
       "3            -0.575276  -0.104114       -0.104114     -0.345112   \n",
       "4            -0.575276  -0.104114       -0.104114     -0.345112   \n",
       "...                ...        ...             ...           ...   \n",
       "34703        -0.120571  -0.104114       -0.104114     -0.345112   \n",
       "34704         3.051206  -0.104114       -0.104114     -0.345112   \n",
       "34705         0.336410  -0.104114       -0.104114     -0.345112   \n",
       "34706         0.336410  -0.104114       -0.104114     -0.345112   \n",
       "34707        -0.442894  -0.104114       -0.104114     -0.345112   \n",
       "\n",
       "       DNS_QUERY_TYPE  DNS_TTL_ANSWER  FTP_COMMAND_RET_CODE     Label  Attack  \n",
       "0           -0.178156       -0.087005             -0.057106 -1.333181       0  \n",
       "1           -0.178156       -0.087005             -0.057106 -1.333181       0  \n",
       "2           -0.178156       -0.087005             -0.057106 -1.333181       0  \n",
       "3           -0.178156       -0.087005             -0.057106 -1.333181       0  \n",
       "4           -0.178156       -0.087005             -0.057106 -1.333181       0  \n",
       "...               ...             ...                   ...       ...     ...  \n",
       "34703       -0.178156       -0.087005             -0.057106  0.750086       7  \n",
       "34704       -0.178156       -0.087005             -0.057106  0.750086       7  \n",
       "34705       -0.178156       -0.087005             -0.057106  0.750086       7  \n",
       "34706       -0.178156       -0.087005             -0.057106  0.750086       7  \n",
       "34707       -0.178156       -0.087005             -0.057106  0.750086       7  \n",
       "\n",
       "[34708 rows x 43 columns]"
      ]
     },
     "execution_count": 3,
     "metadata": {},
     "output_type": "execute_result"
    }
   ],
   "source": [
    "df"
   ]
  },
  {
   "cell_type": "code",
   "execution_count": 4,
   "id": "5e2fc31b",
   "metadata": {},
   "outputs": [],
   "source": [
    "X = df.drop(['Attack'],axis=1).values\n",
    "y = df.iloc[:, -1].values.reshape(-1,1)\n",
    "y=np.ravel(y)"
   ]
  },
  {
   "cell_type": "code",
   "execution_count": 5,
   "id": "9b7e4f93",
   "metadata": {},
   "outputs": [],
   "source": [
    "X_train, X_test, y_train, y_test = train_test_split(X,y, train_size = 0.8, test_size = 0.2, random_state = 0,stratify = y)"
   ]
  },
  {
   "cell_type": "code",
   "execution_count": 6,
   "id": "7b33f318",
   "metadata": {},
   "outputs": [],
   "source": [
    "features = df.dtypes[df.dtypes != 'object'].index"
   ]
  },
  {
   "cell_type": "code",
   "execution_count": 7,
   "id": "02dab2b9",
   "metadata": {},
   "outputs": [],
   "source": [
    "#Feature engineering\n",
    "#Feature selection by information gain\n",
    "from sklearn.feature_selection import mutual_info_classif\n",
    "importances = mutual_info_classif(X_train, y_train)\n",
    "# calculate the sum of importance scores\n",
    "f_list = sorted(zip(map(lambda x: round(x, 4), importances), features), reverse=True)\n",
    "Sum = 0\n",
    "fs = []\n",
    "for i in range(0, len(f_list)):\n",
    "    Sum = Sum + f_list[i][0]\n",
    "    fs.append(f_list[i][1])"
   ]
  },
  {
   "cell_type": "code",
   "execution_count": 8,
   "id": "a3f5366e",
   "metadata": {},
   "outputs": [],
   "source": [
    "# select the important features from top to bottom until the accumulated importance reaches 90%\n",
    "f_list2 = sorted(zip(map(lambda x: round(x, 4), importances/Sum), features), reverse=True)\n",
    "Sum2 = 0\n",
    "fs = []\n",
    "for i in range(0, len(f_list2)):\n",
    "    Sum2 = Sum2 + f_list2[i][0]\n",
    "    fs.append(f_list2[i][1])\n",
    "    if Sum2>=0.9:\n",
    "        break        \n"
   ]
  },
  {
   "cell_type": "code",
   "execution_count": 9,
   "id": "8efbfc98",
   "metadata": {},
   "outputs": [
    {
     "data": {
      "text/plain": [
       "(34708, 22)"
      ]
     },
     "execution_count": 9,
     "metadata": {},
     "output_type": "execute_result"
    }
   ],
   "source": [
    "X_fs = df[fs].values\n",
    "X_fs.shape"
   ]
  },
  {
   "cell_type": "code",
   "execution_count": 10,
   "id": "35f02ff8",
   "metadata": {},
   "outputs": [],
   "source": [
    "#Re-split train & test sets after feature selection\n",
    "X_train, X_test, y_train, y_test = train_test_split(X_fs,y, train_size = 0.8, test_size = 0.2, random_state = 0,stratify = y)"
   ]
  },
  {
   "cell_type": "code",
   "execution_count": 11,
   "id": "21f988c3",
   "metadata": {},
   "outputs": [
    {
     "data": {
      "text/plain": [
       "(27766, 22)"
      ]
     },
     "execution_count": 11,
     "metadata": {},
     "output_type": "execute_result"
    }
   ],
   "source": [
    "X_train.shape"
   ]
  },
  {
   "cell_type": "code",
   "execution_count": 12,
   "id": "e0e2cc18",
   "metadata": {},
   "outputs": [
    {
     "data": {
      "text/plain": [
       "1    13447\n",
       "5     6178\n",
       "7     2740\n",
       "0     1946\n",
       "8     1210\n",
       "9      784\n",
       "2      651\n",
       "6      366\n",
       "3      238\n",
       "4      206\n",
       "dtype: int64"
      ]
     },
     "execution_count": 12,
     "metadata": {},
     "output_type": "execute_result"
    }
   ],
   "source": [
    "pd.Series(y_train).value_counts()"
   ]
  },
  {
   "cell_type": "code",
   "execution_count": 13,
   "id": "12a672d5",
   "metadata": {},
   "outputs": [
    {
     "name": "stdout",
     "output_type": "stream",
     "text": [
      "Before Sampling:  Counter({1: 13447, 5: 6178, 7: 2740, 0: 1946, 8: 1210, 9: 784, 2: 651, 6: 366, 3: 238, 4: 206})\n"
     ]
    }
   ],
   "source": [
    "from collections import Counter\n",
    "print(\"Before Sampling: \",Counter(y_train))"
   ]
  },
  {
   "cell_type": "code",
   "execution_count": 14,
   "id": "2303190f",
   "metadata": {},
   "outputs": [],
   "source": [
    "from collections import Counter\n",
    "from imblearn.combine import SMOTETomek\n",
    "smote_tomek = SMOTETomek(random_state=0)\n",
    "X_trainf, y_trainf = smote_tomek.fit_resample(X_train, y_train)"
   ]
  },
  {
   "cell_type": "code",
   "execution_count": 15,
   "id": "67d6d299",
   "metadata": {},
   "outputs": [
    {
     "name": "stdout",
     "output_type": "stream",
     "text": [
      "[(0, 13398), (1, 13445), (2, 13411), (3, 13277), (4, 13396), (5, 13237), (6, 13431), (7, 13447), (8, 13409), (9, 13401)]\n"
     ]
    }
   ],
   "source": [
    "print(sorted(Counter(y_trainf).items()))"
   ]
  },
  {
   "cell_type": "code",
   "execution_count": 16,
   "id": "20ffaad7",
   "metadata": {},
   "outputs": [
    {
     "data": {
      "text/plain": [
       "7    13447\n",
       "1    13445\n",
       "6    13431\n",
       "2    13411\n",
       "8    13409\n",
       "9    13401\n",
       "0    13398\n",
       "4    13396\n",
       "3    13277\n",
       "5    13237\n",
       "dtype: int64"
      ]
     },
     "execution_count": 16,
     "metadata": {},
     "output_type": "execute_result"
    }
   ],
   "source": [
    "pd.Series(y_trainf).value_counts()"
   ]
  },
  {
   "cell_type": "code",
   "execution_count": 17,
   "id": "9b6e82f8",
   "metadata": {},
   "outputs": [],
   "source": [
    "from sklearn.neighbors import KNeighborsClassifier\n",
    "from sklearn.model_selection import GridSearchCV, StratifiedKFold\n",
    "\n",
    "# define the KNN model\n",
    "knn_model = KNeighborsClassifier()"
   ]
  },
  {
   "cell_type": "code",
   "execution_count": 19,
   "id": "2f0c6236",
   "metadata": {},
   "outputs": [
    {
     "data": {
      "text/html": [
       "<style>#sk-container-id-1 {color: black;background-color: white;}#sk-container-id-1 pre{padding: 0;}#sk-container-id-1 div.sk-toggleable {background-color: white;}#sk-container-id-1 label.sk-toggleable__label {cursor: pointer;display: block;width: 100%;margin-bottom: 0;padding: 0.3em;box-sizing: border-box;text-align: center;}#sk-container-id-1 label.sk-toggleable__label-arrow:before {content: \"▸\";float: left;margin-right: 0.25em;color: #696969;}#sk-container-id-1 label.sk-toggleable__label-arrow:hover:before {color: black;}#sk-container-id-1 div.sk-estimator:hover label.sk-toggleable__label-arrow:before {color: black;}#sk-container-id-1 div.sk-toggleable__content {max-height: 0;max-width: 0;overflow: hidden;text-align: left;background-color: #f0f8ff;}#sk-container-id-1 div.sk-toggleable__content pre {margin: 0.2em;color: black;border-radius: 0.25em;background-color: #f0f8ff;}#sk-container-id-1 input.sk-toggleable__control:checked~div.sk-toggleable__content {max-height: 200px;max-width: 100%;overflow: auto;}#sk-container-id-1 input.sk-toggleable__control:checked~label.sk-toggleable__label-arrow:before {content: \"▾\";}#sk-container-id-1 div.sk-estimator input.sk-toggleable__control:checked~label.sk-toggleable__label {background-color: #d4ebff;}#sk-container-id-1 div.sk-label input.sk-toggleable__control:checked~label.sk-toggleable__label {background-color: #d4ebff;}#sk-container-id-1 input.sk-hidden--visually {border: 0;clip: rect(1px 1px 1px 1px);clip: rect(1px, 1px, 1px, 1px);height: 1px;margin: -1px;overflow: hidden;padding: 0;position: absolute;width: 1px;}#sk-container-id-1 div.sk-estimator {font-family: monospace;background-color: #f0f8ff;border: 1px dotted black;border-radius: 0.25em;box-sizing: border-box;margin-bottom: 0.5em;}#sk-container-id-1 div.sk-estimator:hover {background-color: #d4ebff;}#sk-container-id-1 div.sk-parallel-item::after {content: \"\";width: 100%;border-bottom: 1px solid gray;flex-grow: 1;}#sk-container-id-1 div.sk-label:hover label.sk-toggleable__label {background-color: #d4ebff;}#sk-container-id-1 div.sk-serial::before {content: \"\";position: absolute;border-left: 1px solid gray;box-sizing: border-box;top: 0;bottom: 0;left: 50%;z-index: 0;}#sk-container-id-1 div.sk-serial {display: flex;flex-direction: column;align-items: center;background-color: white;padding-right: 0.2em;padding-left: 0.2em;position: relative;}#sk-container-id-1 div.sk-item {position: relative;z-index: 1;}#sk-container-id-1 div.sk-parallel {display: flex;align-items: stretch;justify-content: center;background-color: white;position: relative;}#sk-container-id-1 div.sk-item::before, #sk-container-id-1 div.sk-parallel-item::before {content: \"\";position: absolute;border-left: 1px solid gray;box-sizing: border-box;top: 0;bottom: 0;left: 50%;z-index: -1;}#sk-container-id-1 div.sk-parallel-item {display: flex;flex-direction: column;z-index: 1;position: relative;background-color: white;}#sk-container-id-1 div.sk-parallel-item:first-child::after {align-self: flex-end;width: 50%;}#sk-container-id-1 div.sk-parallel-item:last-child::after {align-self: flex-start;width: 50%;}#sk-container-id-1 div.sk-parallel-item:only-child::after {width: 0;}#sk-container-id-1 div.sk-dashed-wrapped {border: 1px dashed gray;margin: 0 0.4em 0.5em 0.4em;box-sizing: border-box;padding-bottom: 0.4em;background-color: white;}#sk-container-id-1 div.sk-label label {font-family: monospace;font-weight: bold;display: inline-block;line-height: 1.2em;}#sk-container-id-1 div.sk-label-container {text-align: center;}#sk-container-id-1 div.sk-container {/* jupyter's `normalize.less` sets `[hidden] { display: none; }` but bootstrap.min.css set `[hidden] { display: none !important; }` so we also need the `!important` here to be able to override the default hidden behavior on the sphinx rendered scikit-learn.org. See: https://github.com/scikit-learn/scikit-learn/issues/21755 */display: inline-block !important;position: relative;}#sk-container-id-1 div.sk-text-repr-fallback {display: none;}</style><div id=\"sk-container-id-1\" class=\"sk-top-container\"><div class=\"sk-text-repr-fallback\"><pre>GridSearchCV(cv=StratifiedKFold(n_splits=5, random_state=0, shuffle=True),\n",
       "             estimator=KNeighborsClassifier(), n_jobs=-1,\n",
       "             param_grid={&#x27;algorithm&#x27;: [&#x27;auto&#x27;, &#x27;ball_tree&#x27;, &#x27;kd_tree&#x27;, &#x27;brute&#x27;],\n",
       "                         &#x27;metric&#x27;: [&#x27;euclidean&#x27;, &#x27;manhattan&#x27;],\n",
       "                         &#x27;n_neighbors&#x27;: [3, 5, 7, 9, 11],\n",
       "                         &#x27;weights&#x27;: [&#x27;uniform&#x27;, &#x27;distance&#x27;]},\n",
       "             scoring=&#x27;accuracy&#x27;)</pre><b>In a Jupyter environment, please rerun this cell to show the HTML representation or trust the notebook. <br />On GitHub, the HTML representation is unable to render, please try loading this page with nbviewer.org.</b></div><div class=\"sk-container\" hidden><div class=\"sk-item sk-dashed-wrapped\"><div class=\"sk-label-container\"><div class=\"sk-label sk-toggleable\"><input class=\"sk-toggleable__control sk-hidden--visually\" id=\"sk-estimator-id-1\" type=\"checkbox\" ><label for=\"sk-estimator-id-1\" class=\"sk-toggleable__label sk-toggleable__label-arrow\">GridSearchCV</label><div class=\"sk-toggleable__content\"><pre>GridSearchCV(cv=StratifiedKFold(n_splits=5, random_state=0, shuffle=True),\n",
       "             estimator=KNeighborsClassifier(), n_jobs=-1,\n",
       "             param_grid={&#x27;algorithm&#x27;: [&#x27;auto&#x27;, &#x27;ball_tree&#x27;, &#x27;kd_tree&#x27;, &#x27;brute&#x27;],\n",
       "                         &#x27;metric&#x27;: [&#x27;euclidean&#x27;, &#x27;manhattan&#x27;],\n",
       "                         &#x27;n_neighbors&#x27;: [3, 5, 7, 9, 11],\n",
       "                         &#x27;weights&#x27;: [&#x27;uniform&#x27;, &#x27;distance&#x27;]},\n",
       "             scoring=&#x27;accuracy&#x27;)</pre></div></div></div><div class=\"sk-parallel\"><div class=\"sk-parallel-item\"><div class=\"sk-item\"><div class=\"sk-label-container\"><div class=\"sk-label sk-toggleable\"><input class=\"sk-toggleable__control sk-hidden--visually\" id=\"sk-estimator-id-2\" type=\"checkbox\" ><label for=\"sk-estimator-id-2\" class=\"sk-toggleable__label sk-toggleable__label-arrow\">estimator: KNeighborsClassifier</label><div class=\"sk-toggleable__content\"><pre>KNeighborsClassifier()</pre></div></div></div><div class=\"sk-serial\"><div class=\"sk-item\"><div class=\"sk-estimator sk-toggleable\"><input class=\"sk-toggleable__control sk-hidden--visually\" id=\"sk-estimator-id-3\" type=\"checkbox\" ><label for=\"sk-estimator-id-3\" class=\"sk-toggleable__label sk-toggleable__label-arrow\">KNeighborsClassifier</label><div class=\"sk-toggleable__content\"><pre>KNeighborsClassifier()</pre></div></div></div></div></div></div></div></div></div></div>"
      ],
      "text/plain": [
       "GridSearchCV(cv=StratifiedKFold(n_splits=5, random_state=0, shuffle=True),\n",
       "             estimator=KNeighborsClassifier(), n_jobs=-1,\n",
       "             param_grid={'algorithm': ['auto', 'ball_tree', 'kd_tree', 'brute'],\n",
       "                         'metric': ['euclidean', 'manhattan'],\n",
       "                         'n_neighbors': [3, 5, 7, 9, 11],\n",
       "                         'weights': ['uniform', 'distance']},\n",
       "             scoring='accuracy')"
      ]
     },
     "execution_count": 19,
     "metadata": {},
     "output_type": "execute_result"
    }
   ],
   "source": [
    "\n",
    "# define the parameter grid for hyperparameter tuning\n",
    "param_grid = {'n_neighbors': [3, 5, 7, 9, 11],\n",
    "              'weights': ['uniform', 'distance'],\n",
    "              'metric': ['euclidean', 'manhattan'],\n",
    "              'algorithm': ['auto', 'ball_tree', 'kd_tree', 'brute']}\n",
    "\n",
    "# define the stratified k-fold cross-validation object\n",
    "cv = StratifiedKFold(n_splits=5, shuffle=True, random_state=0)\n",
    "\n",
    "# perform hyperparameter tuning using grid search\n",
    "knn_grid = GridSearchCV(estimator=knn_model, param_grid=param_grid, cv=cv, scoring='accuracy', n_jobs=-1)\n",
    "knn_grid.fit(X_trainf, y_trainf)"
   ]
  },
  {
   "cell_type": "code",
   "execution_count": 20,
   "id": "828d2791",
   "metadata": {},
   "outputs": [
    {
     "name": "stdout",
     "output_type": "stream",
     "text": [
      "Best hyperparameters for KNN:  {'algorithm': 'auto', 'metric': 'manhattan', 'n_neighbors': 3, 'weights': 'distance'}\n"
     ]
    }
   ],
   "source": [
    "\n",
    "# print the best hyperparameters\n",
    "print(\"Best hyperparameters for KNN: \", knn_grid.best_params_)\n"
   ]
  },
  {
   "cell_type": "code",
   "execution_count": 21,
   "id": "1cea44d0",
   "metadata": {},
   "outputs": [
    {
     "name": "stdout",
     "output_type": "stream",
     "text": [
      "Accuracy of KNN model: 93.23%\n"
     ]
    }
   ],
   "source": [
    "# use the best hyperparameters to fit the KNN model\n",
    "# knn_model = KNeighborsClassifier(**knn_grid.best_params_)\n",
    "knn_model = KNeighborsClassifier(\"algorithm\"=auto, \"metric\"= manhattan, \"n_neighbors\"= 3, \"weights\"=distance)\n",
    "knn_model.fit(X_trainf, y_trainf)\n",
    "\n",
    "# evaluate the KNN model on the test set\n",
    "knn_accuracy = knn_model.score(X_test, y_test)\n",
    "print(\"Accuracy of KNN model: {:.2f}%\".format(knn_accuracy*100))"
   ]
  },
  {
   "cell_type": "code",
   "execution_count": null,
   "id": "98a28752",
   "metadata": {},
   "outputs": [],
   "source": []
  }
 ],
 "metadata": {
  "kernelspec": {
   "display_name": "Python 3 (ipykernel)",
   "language": "python",
   "name": "python3"
  },
  "language_info": {
   "codemirror_mode": {
    "name": "ipython",
    "version": 3
   },
   "file_extension": ".py",
   "mimetype": "text/x-python",
   "name": "python",
   "nbconvert_exporter": "python",
   "pygments_lexer": "ipython3",
   "version": "3.10.9"
  }
 },
 "nbformat": 4,
 "nbformat_minor": 5
}
