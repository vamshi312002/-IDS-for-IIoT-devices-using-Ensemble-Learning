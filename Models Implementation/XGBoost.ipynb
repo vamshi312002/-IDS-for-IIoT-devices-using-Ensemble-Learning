{
 "cells": [
  {
   "cell_type": "code",
   "execution_count": 1,
   "id": "91306a93",
   "metadata": {},
   "outputs": [],
   "source": [
    "import numpy as np\n",
    "import pandas as pd\n",
    "import seaborn as sns\n",
    "import matplotlib.pyplot as plt\n",
    "from sklearn.preprocessing import LabelEncoder \n",
    "from sklearn.model_selection import train_test_split\n",
    "from sklearn.metrics import classification_report,confusion_matrix,accuracy_score,precision_recall_fscore_support\n",
    "from sklearn.metrics import f1_score\n",
    "from sklearn.ensemble import RandomForestClassifier,ExtraTreesClassifier\n",
    "from sklearn.tree import DecisionTreeClassifier\n",
    "import xgboost as xgb\n",
    "from xgboost import plot_importance\n",
    "from sklearn.neighbors import KNeighborsClassifier\n",
    "from sklearn.multiclass import OneVsRestClassifier\n",
    "from sklearn.metrics import accuracy_score, precision_score, recall_score\n",
    "from sklearn import svm\n",
    "from sklearn.multiclass import OneVsRestClassifier\n",
    "from sklearn.model_selection import train_test_split\n",
    "from sklearn.metrics import accuracy_score\n",
    "from sklearn.model_selection import train_test_split, GridSearchCV, StratifiedKFold"
   ]
  },
  {
   "cell_type": "code",
   "execution_count": 2,
   "id": "24ea1eb4",
   "metadata": {},
   "outputs": [],
   "source": [
    "df = pd.read_csv('Sampling-0.0004.csv')"
   ]
  },
  {
   "cell_type": "code",
   "execution_count": 3,
   "id": "c268d09a",
   "metadata": {},
   "outputs": [
    {
     "data": {
      "text/html": [
       "<div>\n",
       "<style scoped>\n",
       "    .dataframe tbody tr th:only-of-type {\n",
       "        vertical-align: middle;\n",
       "    }\n",
       "\n",
       "    .dataframe tbody tr th {\n",
       "        vertical-align: top;\n",
       "    }\n",
       "\n",
       "    .dataframe thead th {\n",
       "        text-align: right;\n",
       "    }\n",
       "</style>\n",
       "<table border=\"1\" class=\"dataframe\">\n",
       "  <thead>\n",
       "    <tr style=\"text-align: right;\">\n",
       "      <th></th>\n",
       "      <th>L4_SRC_PORT</th>\n",
       "      <th>L4_DST_PORT</th>\n",
       "      <th>PROTOCOL</th>\n",
       "      <th>L7_PROTO</th>\n",
       "      <th>IN_BYTES</th>\n",
       "      <th>IN_PKTS</th>\n",
       "      <th>OUT_BYTES</th>\n",
       "      <th>OUT_PKTS</th>\n",
       "      <th>TCP_FLAGS</th>\n",
       "      <th>CLIENT_TCP_FLAGS</th>\n",
       "      <th>...</th>\n",
       "      <th>TCP_WIN_MAX_IN</th>\n",
       "      <th>TCP_WIN_MAX_OUT</th>\n",
       "      <th>ICMP_TYPE</th>\n",
       "      <th>ICMP_IPV4_TYPE</th>\n",
       "      <th>DNS_QUERY_ID</th>\n",
       "      <th>DNS_QUERY_TYPE</th>\n",
       "      <th>DNS_TTL_ANSWER</th>\n",
       "      <th>FTP_COMMAND_RET_CODE</th>\n",
       "      <th>Label</th>\n",
       "      <th>Attack</th>\n",
       "    </tr>\n",
       "  </thead>\n",
       "  <tbody>\n",
       "    <tr>\n",
       "      <th>0</th>\n",
       "      <td>-0.335281</td>\n",
       "      <td>-0.489668</td>\n",
       "      <td>-0.411514</td>\n",
       "      <td>-0.430135</td>\n",
       "      <td>-0.004761</td>\n",
       "      <td>-0.010526</td>\n",
       "      <td>-0.008219</td>\n",
       "      <td>-0.012461</td>\n",
       "      <td>-0.956888</td>\n",
       "      <td>-0.686199</td>\n",
       "      <td>...</td>\n",
       "      <td>-0.710202</td>\n",
       "      <td>-0.575276</td>\n",
       "      <td>-0.104114</td>\n",
       "      <td>-0.104114</td>\n",
       "      <td>-0.345112</td>\n",
       "      <td>-0.178156</td>\n",
       "      <td>-0.087005</td>\n",
       "      <td>-0.057106</td>\n",
       "      <td>-1.333181</td>\n",
       "      <td>0</td>\n",
       "    </tr>\n",
       "    <tr>\n",
       "      <th>1</th>\n",
       "      <td>-0.262189</td>\n",
       "      <td>-0.429381</td>\n",
       "      <td>-0.411514</td>\n",
       "      <td>-0.430135</td>\n",
       "      <td>-0.004761</td>\n",
       "      <td>-0.010526</td>\n",
       "      <td>-0.008219</td>\n",
       "      <td>-0.012461</td>\n",
       "      <td>-0.956888</td>\n",
       "      <td>-0.686199</td>\n",
       "      <td>...</td>\n",
       "      <td>-0.710202</td>\n",
       "      <td>-0.575276</td>\n",
       "      <td>-0.104114</td>\n",
       "      <td>-0.104114</td>\n",
       "      <td>-0.345112</td>\n",
       "      <td>-0.178156</td>\n",
       "      <td>-0.087005</td>\n",
       "      <td>-0.057106</td>\n",
       "      <td>-1.333181</td>\n",
       "      <td>0</td>\n",
       "    </tr>\n",
       "    <tr>\n",
       "      <th>2</th>\n",
       "      <td>-0.322100</td>\n",
       "      <td>-0.483734</td>\n",
       "      <td>-0.411514</td>\n",
       "      <td>-0.430135</td>\n",
       "      <td>-0.004761</td>\n",
       "      <td>-0.010526</td>\n",
       "      <td>-0.008219</td>\n",
       "      <td>-0.012461</td>\n",
       "      <td>-0.956888</td>\n",
       "      <td>-0.686199</td>\n",
       "      <td>...</td>\n",
       "      <td>-0.710202</td>\n",
       "      <td>-0.575276</td>\n",
       "      <td>-0.104114</td>\n",
       "      <td>-0.104114</td>\n",
       "      <td>-0.345112</td>\n",
       "      <td>-0.178156</td>\n",
       "      <td>-0.087005</td>\n",
       "      <td>-0.057106</td>\n",
       "      <td>-1.333181</td>\n",
       "      <td>0</td>\n",
       "    </tr>\n",
       "    <tr>\n",
       "      <th>3</th>\n",
       "      <td>-0.242615</td>\n",
       "      <td>-0.476079</td>\n",
       "      <td>-0.411514</td>\n",
       "      <td>-0.430135</td>\n",
       "      <td>-0.004761</td>\n",
       "      <td>-0.010526</td>\n",
       "      <td>-0.008219</td>\n",
       "      <td>-0.012461</td>\n",
       "      <td>-0.956888</td>\n",
       "      <td>-0.686199</td>\n",
       "      <td>...</td>\n",
       "      <td>-0.710202</td>\n",
       "      <td>-0.575276</td>\n",
       "      <td>-0.104114</td>\n",
       "      <td>-0.104114</td>\n",
       "      <td>-0.345112</td>\n",
       "      <td>-0.178156</td>\n",
       "      <td>-0.087005</td>\n",
       "      <td>-0.057106</td>\n",
       "      <td>-1.333181</td>\n",
       "      <td>0</td>\n",
       "    </tr>\n",
       "    <tr>\n",
       "      <th>4</th>\n",
       "      <td>-0.307732</td>\n",
       "      <td>-0.484802</td>\n",
       "      <td>-0.411514</td>\n",
       "      <td>-0.430135</td>\n",
       "      <td>-0.004761</td>\n",
       "      <td>-0.010526</td>\n",
       "      <td>-0.008219</td>\n",
       "      <td>-0.012461</td>\n",
       "      <td>-0.956888</td>\n",
       "      <td>-0.686199</td>\n",
       "      <td>...</td>\n",
       "      <td>-0.710202</td>\n",
       "      <td>-0.575276</td>\n",
       "      <td>-0.104114</td>\n",
       "      <td>-0.104114</td>\n",
       "      <td>-0.345112</td>\n",
       "      <td>-0.178156</td>\n",
       "      <td>-0.087005</td>\n",
       "      <td>-0.057106</td>\n",
       "      <td>-1.333181</td>\n",
       "      <td>0</td>\n",
       "    </tr>\n",
       "    <tr>\n",
       "      <th>...</th>\n",
       "      <td>...</td>\n",
       "      <td>...</td>\n",
       "      <td>...</td>\n",
       "      <td>...</td>\n",
       "      <td>...</td>\n",
       "      <td>...</td>\n",
       "      <td>...</td>\n",
       "      <td>...</td>\n",
       "      <td>...</td>\n",
       "      <td>...</td>\n",
       "      <td>...</td>\n",
       "      <td>...</td>\n",
       "      <td>...</td>\n",
       "      <td>...</td>\n",
       "      <td>...</td>\n",
       "      <td>...</td>\n",
       "      <td>...</td>\n",
       "      <td>...</td>\n",
       "      <td>...</td>\n",
       "      <td>...</td>\n",
       "      <td>...</td>\n",
       "    </tr>\n",
       "    <tr>\n",
       "      <th>34706</th>\n",
       "      <td>0.076511</td>\n",
       "      <td>-0.524380</td>\n",
       "      <td>-0.411514</td>\n",
       "      <td>-0.430135</td>\n",
       "      <td>0.457547</td>\n",
       "      <td>0.087674</td>\n",
       "      <td>0.005299</td>\n",
       "      <td>0.065032</td>\n",
       "      <td>1.169754</td>\n",
       "      <td>1.512796</td>\n",
       "      <td>...</td>\n",
       "      <td>1.369987</td>\n",
       "      <td>-0.120571</td>\n",
       "      <td>-0.104114</td>\n",
       "      <td>-0.104114</td>\n",
       "      <td>-0.345112</td>\n",
       "      <td>-0.178156</td>\n",
       "      <td>-0.087005</td>\n",
       "      <td>-0.057106</td>\n",
       "      <td>0.750086</td>\n",
       "      <td>7</td>\n",
       "    </tr>\n",
       "    <tr>\n",
       "      <th>34707</th>\n",
       "      <td>-2.564483</td>\n",
       "      <td>2.369977</td>\n",
       "      <td>-0.411514</td>\n",
       "      <td>-0.430135</td>\n",
       "      <td>0.294406</td>\n",
       "      <td>0.350849</td>\n",
       "      <td>1.676032</td>\n",
       "      <td>0.929084</td>\n",
       "      <td>0.992534</td>\n",
       "      <td>1.329547</td>\n",
       "      <td>...</td>\n",
       "      <td>-0.648481</td>\n",
       "      <td>3.051206</td>\n",
       "      <td>-0.104114</td>\n",
       "      <td>-0.104114</td>\n",
       "      <td>-0.345112</td>\n",
       "      <td>-0.178156</td>\n",
       "      <td>-0.087005</td>\n",
       "      <td>-0.057106</td>\n",
       "      <td>0.750086</td>\n",
       "      <td>7</td>\n",
       "    </tr>\n",
       "    <tr>\n",
       "      <th>34708</th>\n",
       "      <td>-2.564483</td>\n",
       "      <td>2.371282</td>\n",
       "      <td>-0.411514</td>\n",
       "      <td>-0.430135</td>\n",
       "      <td>1.316805</td>\n",
       "      <td>0.291929</td>\n",
       "      <td>0.108340</td>\n",
       "      <td>0.177398</td>\n",
       "      <td>0.992534</td>\n",
       "      <td>1.329547</td>\n",
       "      <td>...</td>\n",
       "      <td>-0.726665</td>\n",
       "      <td>0.336410</td>\n",
       "      <td>-0.104114</td>\n",
       "      <td>-0.104114</td>\n",
       "      <td>-0.345112</td>\n",
       "      <td>-0.178156</td>\n",
       "      <td>-0.087005</td>\n",
       "      <td>-0.057106</td>\n",
       "      <td>0.750086</td>\n",
       "      <td>7</td>\n",
       "    </tr>\n",
       "    <tr>\n",
       "      <th>34709</th>\n",
       "      <td>-2.564483</td>\n",
       "      <td>2.370748</td>\n",
       "      <td>-0.411514</td>\n",
       "      <td>-0.430135</td>\n",
       "      <td>0.110479</td>\n",
       "      <td>0.152485</td>\n",
       "      <td>0.436717</td>\n",
       "      <td>0.278139</td>\n",
       "      <td>0.992534</td>\n",
       "      <td>1.329547</td>\n",
       "      <td>...</td>\n",
       "      <td>-0.429432</td>\n",
       "      <td>0.336410</td>\n",
       "      <td>-0.104114</td>\n",
       "      <td>-0.104114</td>\n",
       "      <td>-0.345112</td>\n",
       "      <td>-0.178156</td>\n",
       "      <td>-0.087005</td>\n",
       "      <td>-0.057106</td>\n",
       "      <td>0.750086</td>\n",
       "      <td>7</td>\n",
       "    </tr>\n",
       "    <tr>\n",
       "      <th>34710</th>\n",
       "      <td>0.385289</td>\n",
       "      <td>-0.287090</td>\n",
       "      <td>-0.411514</td>\n",
       "      <td>-0.430135</td>\n",
       "      <td>1.062210</td>\n",
       "      <td>0.399949</td>\n",
       "      <td>0.349318</td>\n",
       "      <td>0.619111</td>\n",
       "      <td>0.992534</td>\n",
       "      <td>1.329547</td>\n",
       "      <td>...</td>\n",
       "      <td>0.426829</td>\n",
       "      <td>-0.442894</td>\n",
       "      <td>-0.104114</td>\n",
       "      <td>-0.104114</td>\n",
       "      <td>-0.345112</td>\n",
       "      <td>-0.178156</td>\n",
       "      <td>-0.087005</td>\n",
       "      <td>-0.057106</td>\n",
       "      <td>0.750086</td>\n",
       "      <td>7</td>\n",
       "    </tr>\n",
       "  </tbody>\n",
       "</table>\n",
       "<p>34711 rows × 43 columns</p>\n",
       "</div>"
      ],
      "text/plain": [
       "       L4_SRC_PORT  L4_DST_PORT  PROTOCOL  L7_PROTO  IN_BYTES   IN_PKTS  \\\n",
       "0        -0.335281    -0.489668 -0.411514 -0.430135 -0.004761 -0.010526   \n",
       "1        -0.262189    -0.429381 -0.411514 -0.430135 -0.004761 -0.010526   \n",
       "2        -0.322100    -0.483734 -0.411514 -0.430135 -0.004761 -0.010526   \n",
       "3        -0.242615    -0.476079 -0.411514 -0.430135 -0.004761 -0.010526   \n",
       "4        -0.307732    -0.484802 -0.411514 -0.430135 -0.004761 -0.010526   \n",
       "...            ...          ...       ...       ...       ...       ...   \n",
       "34706     0.076511    -0.524380 -0.411514 -0.430135  0.457547  0.087674   \n",
       "34707    -2.564483     2.369977 -0.411514 -0.430135  0.294406  0.350849   \n",
       "34708    -2.564483     2.371282 -0.411514 -0.430135  1.316805  0.291929   \n",
       "34709    -2.564483     2.370748 -0.411514 -0.430135  0.110479  0.152485   \n",
       "34710     0.385289    -0.287090 -0.411514 -0.430135  1.062210  0.399949   \n",
       "\n",
       "       OUT_BYTES  OUT_PKTS  TCP_FLAGS  CLIENT_TCP_FLAGS  ...  TCP_WIN_MAX_IN  \\\n",
       "0      -0.008219 -0.012461  -0.956888         -0.686199  ...       -0.710202   \n",
       "1      -0.008219 -0.012461  -0.956888         -0.686199  ...       -0.710202   \n",
       "2      -0.008219 -0.012461  -0.956888         -0.686199  ...       -0.710202   \n",
       "3      -0.008219 -0.012461  -0.956888         -0.686199  ...       -0.710202   \n",
       "4      -0.008219 -0.012461  -0.956888         -0.686199  ...       -0.710202   \n",
       "...          ...       ...        ...               ...  ...             ...   \n",
       "34706   0.005299  0.065032   1.169754          1.512796  ...        1.369987   \n",
       "34707   1.676032  0.929084   0.992534          1.329547  ...       -0.648481   \n",
       "34708   0.108340  0.177398   0.992534          1.329547  ...       -0.726665   \n",
       "34709   0.436717  0.278139   0.992534          1.329547  ...       -0.429432   \n",
       "34710   0.349318  0.619111   0.992534          1.329547  ...        0.426829   \n",
       "\n",
       "       TCP_WIN_MAX_OUT  ICMP_TYPE  ICMP_IPV4_TYPE  DNS_QUERY_ID  \\\n",
       "0            -0.575276  -0.104114       -0.104114     -0.345112   \n",
       "1            -0.575276  -0.104114       -0.104114     -0.345112   \n",
       "2            -0.575276  -0.104114       -0.104114     -0.345112   \n",
       "3            -0.575276  -0.104114       -0.104114     -0.345112   \n",
       "4            -0.575276  -0.104114       -0.104114     -0.345112   \n",
       "...                ...        ...             ...           ...   \n",
       "34706        -0.120571  -0.104114       -0.104114     -0.345112   \n",
       "34707         3.051206  -0.104114       -0.104114     -0.345112   \n",
       "34708         0.336410  -0.104114       -0.104114     -0.345112   \n",
       "34709         0.336410  -0.104114       -0.104114     -0.345112   \n",
       "34710        -0.442894  -0.104114       -0.104114     -0.345112   \n",
       "\n",
       "       DNS_QUERY_TYPE  DNS_TTL_ANSWER  FTP_COMMAND_RET_CODE     Label  Attack  \n",
       "0           -0.178156       -0.087005             -0.057106 -1.333181       0  \n",
       "1           -0.178156       -0.087005             -0.057106 -1.333181       0  \n",
       "2           -0.178156       -0.087005             -0.057106 -1.333181       0  \n",
       "3           -0.178156       -0.087005             -0.057106 -1.333181       0  \n",
       "4           -0.178156       -0.087005             -0.057106 -1.333181       0  \n",
       "...               ...             ...                   ...       ...     ...  \n",
       "34706       -0.178156       -0.087005             -0.057106  0.750086       7  \n",
       "34707       -0.178156       -0.087005             -0.057106  0.750086       7  \n",
       "34708       -0.178156       -0.087005             -0.057106  0.750086       7  \n",
       "34709       -0.178156       -0.087005             -0.057106  0.750086       7  \n",
       "34710       -0.178156       -0.087005             -0.057106  0.750086       7  \n",
       "\n",
       "[34711 rows x 43 columns]"
      ]
     },
     "execution_count": 3,
     "metadata": {},
     "output_type": "execute_result"
    }
   ],
   "source": [
    "df"
   ]
  },
  {
   "cell_type": "code",
   "execution_count": 4,
   "id": "5e2fc31b",
   "metadata": {},
   "outputs": [],
   "source": [
    "X = df.drop(['Attack'],axis=1).values\n",
    "y = df.iloc[:, -1].values.reshape(-1,1)\n",
    "y=np.ravel(y)"
   ]
  },
  {
   "cell_type": "code",
   "execution_count": 5,
   "id": "9b7e4f93",
   "metadata": {},
   "outputs": [],
   "source": [
    "X_train, X_test, y_train, y_test = train_test_split(X,y, train_size = 0.8, test_size = 0.2, random_state = 0,stratify = y)"
   ]
  },
  {
   "cell_type": "code",
   "execution_count": 6,
   "id": "7b33f318",
   "metadata": {},
   "outputs": [],
   "source": [
    "features = df.dtypes[df.dtypes != 'object'].index"
   ]
  },
  {
   "cell_type": "code",
   "execution_count": 7,
   "id": "02dab2b9",
   "metadata": {},
   "outputs": [],
   "source": [
    "#Feature engineering\n",
    "#Feature selection by information gain\n",
    "from sklearn.feature_selection import mutual_info_classif\n",
    "importances = mutual_info_classif(X_train, y_train)\n",
    "# calculate the sum of importance scores\n",
    "f_list = sorted(zip(map(lambda x: round(x, 4), importances), features), reverse=True)\n",
    "Sum = 0\n",
    "fs = []\n",
    "for i in range(0, len(f_list)):\n",
    "    Sum = Sum + f_list[i][0]\n",
    "    fs.append(f_list[i][1])"
   ]
  },
  {
   "cell_type": "code",
   "execution_count": 8,
   "id": "a3f5366e",
   "metadata": {},
   "outputs": [],
   "source": [
    "# select the important features from top to bottom until the accumulated importance reaches 90%\n",
    "f_list2 = sorted(zip(map(lambda x: round(x, 4), importances/Sum), features), reverse=True)\n",
    "Sum2 = 0\n",
    "fs = []\n",
    "for i in range(0, len(f_list2)):\n",
    "    Sum2 = Sum2 + f_list2[i][0]\n",
    "    fs.append(f_list2[i][1])\n",
    "    if Sum2>=0.9:\n",
    "        break        \n"
   ]
  },
  {
   "cell_type": "code",
   "execution_count": 9,
   "id": "8efbfc98",
   "metadata": {},
   "outputs": [
    {
     "data": {
      "text/plain": [
       "(34711, 23)"
      ]
     },
     "execution_count": 9,
     "metadata": {},
     "output_type": "execute_result"
    }
   ],
   "source": [
    "X_fs = df[fs].values\n",
    "X_fs.shape"
   ]
  },
  {
   "cell_type": "code",
   "execution_count": 10,
   "id": "35f02ff8",
   "metadata": {},
   "outputs": [],
   "source": [
    "#Re-split train & test sets after feature selection\n",
    "X_train, X_test, y_train, y_test = train_test_split(X_fs,y, train_size = 0.8, test_size = 0.2, random_state = 0,stratify = y)"
   ]
  },
  {
   "cell_type": "code",
   "execution_count": 11,
   "id": "21f988c3",
   "metadata": {},
   "outputs": [
    {
     "data": {
      "text/plain": [
       "(27768, 23)"
      ]
     },
     "execution_count": 11,
     "metadata": {},
     "output_type": "execute_result"
    }
   ],
   "source": [
    "X_train.shape"
   ]
  },
  {
   "cell_type": "code",
   "execution_count": 12,
   "id": "e0e2cc18",
   "metadata": {},
   "outputs": [
    {
     "data": {
      "text/plain": [
       "1    13447\n",
       "5     6178\n",
       "7     2740\n",
       "0     1950\n",
       "8     1207\n",
       "9      793\n",
       "2      650\n",
       "6      367\n",
       "3      226\n",
       "4      210\n",
       "dtype: int64"
      ]
     },
     "execution_count": 12,
     "metadata": {},
     "output_type": "execute_result"
    }
   ],
   "source": [
    "pd.Series(y_train).value_counts()"
   ]
  },
  {
   "cell_type": "code",
   "execution_count": 13,
   "id": "12a672d5",
   "metadata": {},
   "outputs": [
    {
     "name": "stdout",
     "output_type": "stream",
     "text": [
      "Before Sampling:  Counter({1: 13447, 5: 6178, 7: 2740, 0: 1950, 8: 1207, 9: 793, 2: 650, 6: 367, 3: 226, 4: 210})\n"
     ]
    }
   ],
   "source": [
    "from collections import Counter\n",
    "print(\"Before Sampling: \",Counter(y_train))"
   ]
  },
  {
   "cell_type": "code",
   "execution_count": 14,
   "id": "2303190f",
   "metadata": {},
   "outputs": [],
   "source": [
    "from collections import Counter\n",
    "from imblearn.combine import SMOTETomek\n",
    "smote_tomek = SMOTETomek(random_state=0)\n",
    "X_trainf, y_trainf = smote_tomek.fit_resample(X_train, y_train)"
   ]
  },
  {
   "cell_type": "code",
   "execution_count": 15,
   "id": "67d6d299",
   "metadata": {},
   "outputs": [
    {
     "name": "stdout",
     "output_type": "stream",
     "text": [
      "[(0, 13396), (1, 13440), (2, 13423), (3, 13289), (4, 13400), (5, 13265), (6, 13427), (7, 13445), (8, 13406), (9, 13395)]\n"
     ]
    }
   ],
   "source": [
    "print(sorted(Counter(y_trainf).items()))"
   ]
  },
  {
   "cell_type": "code",
   "execution_count": 16,
   "id": "20ffaad7",
   "metadata": {},
   "outputs": [
    {
     "data": {
      "text/plain": [
       "7    13445\n",
       "1    13440\n",
       "6    13427\n",
       "2    13423\n",
       "8    13406\n",
       "4    13400\n",
       "0    13396\n",
       "9    13395\n",
       "3    13289\n",
       "5    13265\n",
       "dtype: int64"
      ]
     },
     "execution_count": 16,
     "metadata": {},
     "output_type": "execute_result"
    }
   ],
   "source": [
    "pd.Series(y_trainf).value_counts()"
   ]
  },
  {
   "cell_type": "code",
   "execution_count": 18,
   "id": "3044ac8e",
   "metadata": {},
   "outputs": [],
   "source": [
    "# Define k-fold cross-validation object\n",
    "cv = StratifiedKFold(n_splits=5, shuffle=True, random_state=0)"
   ]
  },
  {
   "cell_type": "code",
   "execution_count": 19,
   "id": "f23e7936",
   "metadata": {},
   "outputs": [],
   "source": [
    "# Define XGBoost classifier\n",
    "xgb_clf = xgb.XGBClassifier()\n"
   ]
  },
  {
   "cell_type": "code",
   "execution_count": 20,
   "id": "7f06ee14",
   "metadata": {},
   "outputs": [
    {
     "name": "stdout",
     "output_type": "stream",
     "text": [
      "Best hyperparameters for XGBoost: {'colsample_bytree': 1.0, 'gamma': 0, 'learning_rate': 0.1, 'max_depth': 5, 'n_estimators': 1000}\n",
      "Best cross-validation score for XGBoost: 0.9821489826599781\n"
     ]
    }
   ],
   "source": [
    "\n",
    "# Define grid of hyperparameters to search over\n",
    "xgb_param_grid = {\n",
    "    'max_depth': [3, 4, 5],\n",
    "    'learning_rate': [0.1, 0.01, 0.001],\n",
    "    'n_estimators': [100, 500, 1000],\n",
    "    'gamma': [0, 0.1, 0.2],\n",
    "    'colsample_bytree': [0.6, 0.8, 1.0]\n",
    "}\n",
    "\n",
    "# Perform grid search for best hyperparameters using cross-validation\n",
    "xgb_grid_search = GridSearchCV(estimator=xgb_clf, param_grid=xgb_param_grid, scoring='accuracy', n_jobs=-1, cv=cv)\n",
    "xgb_grid_search.fit(X_trainf, y_trainf)\n",
    "\n",
    "# Print best hyperparameters and corresponding score\n",
    "print(\"Best hyperparameters for XGBoost:\", xgb_grid_search.best_params_)\n",
    "print(\"Best cross-validation score for XGBoost:\", xgb_grid_search.best_score_)"
   ]
  },
  {
   "cell_type": "code",
   "execution_count": null,
   "id": "37ae00ef",
   "metadata": {},
   "outputs": [],
   "source": [
    "# Train XGBoost model using best hyperparameters and predict on test set\n",
    "xgb_best = xgb_grid_search.best_estimator_\n",
    "xgb_best.fit(X_trainf, y_trainf)\n",
    "y_pred_xgb = xgb_best.predict(X_test)\n"
   ]
  },
  {
   "cell_type": "code",
   "execution_count": null,
   "id": "6bd56621",
   "metadata": {},
   "outputs": [],
   "source": [
    "# Calculate accuracy and confusion matrix for XGBoost model\n",
    "acc_xgb = accuracy_score(y_test, y_pred_xgb)\n",
    "cm_xgb = confusion_matrix(y_test, y_pred_xgb)\n",
    "print(\"Accuracy for XGBoost:\", acc_xgb)\n",
    "print(\"Confusion matrix for XGBoost:\\n\",cm_xgb)"
   ]
  },
  {
   "cell_type": "code",
   "execution_count": null,
   "id": "697defd5",
   "metadata": {},
   "outputs": [],
   "source": []
  },
  {
   "cell_type": "code",
   "execution_count": null,
   "id": "282aae93",
   "metadata": {},
   "outputs": [],
   "source": []
  },
  {
   "cell_type": "code",
   "execution_count": 17,
   "id": "1d78a881",
   "metadata": {},
   "outputs": [
    {
     "name": "stdout",
     "output_type": "stream",
     "text": [
      "Accuracy of XGBoost: 0.9601037015699265\n",
      "Precision of XGBoost: 0.9651184151558375\n",
      "Recall of XGBoost: 0.9601037015699265\n",
      "F1-score of XGBoost: 0.9622784891217294\n",
      "              precision    recall  f1-score   support\n",
      "\n",
      "           0       0.95      0.95      0.95       487\n",
      "           1       1.00      1.00      1.00      3362\n",
      "           2       0.96      0.97      0.96       162\n",
      "           3       0.16      0.26      0.20        57\n",
      "           4       0.65      0.74      0.69        53\n",
      "           5       0.96      0.92      0.94      1545\n",
      "           6       0.90      0.96      0.93        92\n",
      "           7       1.00      1.00      1.00       685\n",
      "           8       0.93      0.92      0.93       302\n",
      "           9       0.77      0.88      0.82       198\n",
      "\n",
      "    accuracy                           0.96      6943\n",
      "   macro avg       0.83      0.86      0.84      6943\n",
      "weighted avg       0.97      0.96      0.96      6943\n",
      "\n"
     ]
    },
    {
     "data": {
      "image/png": "[encoded data removed]",
      "text/plain": [
       "<Figure size 500x500 with 2 Axes>"
      ]
     },
     "metadata": {},
     "output_type": "display_data"
    }
   ],
   "source": [
    "xg = xgb.XGBClassifier(colsample_bytree=1.0, gamma= 0, learning_rate= 0.1, max_depth= 5, n_estimators= 1000)\n",
    "xg.fit(X_trainf,y_trainf)\n",
    "xg_score=xg.score(X_test,y_test)\n",
    "y_predict=xg.predict(X_test)\n",
    "y_true=y_test\n",
    "print('Accuracy of XGBoost: '+ str(xg_score))\n",
    "precision,recall,fscore,none= precision_recall_fscore_support(y_true, y_predict, average='weighted') \n",
    "print('Precision of XGBoost: '+(str(precision)))\n",
    "print('Recall of XGBoost: '+(str(recall)))\n",
    "print('F1-score of XGBoost: '+(str(fscore)))\n",
    "print(classification_report(y_true,y_predict))\n",
    "cm=confusion_matrix(y_true,y_predict)\n",
    "f,ax=plt.subplots(figsize=(5,5))\n",
    "sns.heatmap(cm,annot=True,linewidth=0.5,linecolor=\"red\",fmt=\".0f\",ax=ax)\n",
    "plt.xlabel(\"y_pred\")\n",
    "plt.ylabel(\"y_true\")\n",
    "plt.show()"
   ]
  },
  {
   "cell_type": "code",
   "execution_count": null,
   "id": "a4654745",
   "metadata": {},
   "outputs": [],
   "source": []
  },
  {
   "cell_type": "code",
   "execution_count": null,
   "id": "9b6e82f8",
   "metadata": {},
   "outputs": [],
   "source": []
  }
 ],
 "metadata": {
  "kernelspec": {
   "display_name": "Python 3 (ipykernel)",
   "language": "python",
   "name": "python3"
  },
  "language_info": {
   "codemirror_mode": {
    "name": "ipython",
    "version": 3
   },
   "file_extension": ".py",
   "mimetype": "text/x-python",
   "name": "python",
   "nbconvert_exporter": "python",
   "pygments_lexer": "ipython3",
   "version": "3.10.9"
  }
 },
 "nbformat": 4,
 "nbformat_minor": 5
}
